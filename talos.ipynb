{
 "cells": [
  {
   "cell_type": "code",
   "execution_count": 6,
   "metadata": {},
   "outputs": [
    {
     "name": "stderr",
     "output_type": "stream",
     "text": [
      "Using TensorFlow backend.\n",
      "C:\\Users\\pepe\\Anaconda3\\envs\\TensorFlow\\lib\\site-packages\\tensorflow\\python\\framework\\dtypes.py:516: FutureWarning: Passing (type, 1) or '1type' as a synonym of type is deprecated; in a future version of numpy, it will be understood as (type, (1,)) / '(1,)type'.\n",
      "  _np_qint8 = np.dtype([(\"qint8\", np.int8, 1)])\n",
      "C:\\Users\\pepe\\Anaconda3\\envs\\TensorFlow\\lib\\site-packages\\tensorflow\\python\\framework\\dtypes.py:517: FutureWarning: Passing (type, 1) or '1type' as a synonym of type is deprecated; in a future version of numpy, it will be understood as (type, (1,)) / '(1,)type'.\n",
      "  _np_quint8 = np.dtype([(\"quint8\", np.uint8, 1)])\n",
      "C:\\Users\\pepe\\Anaconda3\\envs\\TensorFlow\\lib\\site-packages\\tensorflow\\python\\framework\\dtypes.py:518: FutureWarning: Passing (type, 1) or '1type' as a synonym of type is deprecated; in a future version of numpy, it will be understood as (type, (1,)) / '(1,)type'.\n",
      "  _np_qint16 = np.dtype([(\"qint16\", np.int16, 1)])\n",
      "C:\\Users\\pepe\\Anaconda3\\envs\\TensorFlow\\lib\\site-packages\\tensorflow\\python\\framework\\dtypes.py:519: FutureWarning: Passing (type, 1) or '1type' as a synonym of type is deprecated; in a future version of numpy, it will be understood as (type, (1,)) / '(1,)type'.\n",
      "  _np_quint16 = np.dtype([(\"quint16\", np.uint16, 1)])\n",
      "C:\\Users\\pepe\\Anaconda3\\envs\\TensorFlow\\lib\\site-packages\\tensorflow\\python\\framework\\dtypes.py:520: FutureWarning: Passing (type, 1) or '1type' as a synonym of type is deprecated; in a future version of numpy, it will be understood as (type, (1,)) / '(1,)type'.\n",
      "  _np_qint32 = np.dtype([(\"qint32\", np.int32, 1)])\n",
      "C:\\Users\\pepe\\Anaconda3\\envs\\TensorFlow\\lib\\site-packages\\tensorflow\\python\\framework\\dtypes.py:525: FutureWarning: Passing (type, 1) or '1type' as a synonym of type is deprecated; in a future version of numpy, it will be understood as (type, (1,)) / '(1,)type'.\n",
      "  np_resource = np.dtype([(\"resource\", np.ubyte, 1)])\n",
      "C:\\Users\\pepe\\Anaconda3\\envs\\TensorFlow\\lib\\site-packages\\tensorboard\\compat\\tensorflow_stub\\dtypes.py:541: FutureWarning: Passing (type, 1) or '1type' as a synonym of type is deprecated; in a future version of numpy, it will be understood as (type, (1,)) / '(1,)type'.\n",
      "  _np_qint8 = np.dtype([(\"qint8\", np.int8, 1)])\n",
      "C:\\Users\\pepe\\Anaconda3\\envs\\TensorFlow\\lib\\site-packages\\tensorboard\\compat\\tensorflow_stub\\dtypes.py:542: FutureWarning: Passing (type, 1) or '1type' as a synonym of type is deprecated; in a future version of numpy, it will be understood as (type, (1,)) / '(1,)type'.\n",
      "  _np_quint8 = np.dtype([(\"quint8\", np.uint8, 1)])\n",
      "C:\\Users\\pepe\\Anaconda3\\envs\\TensorFlow\\lib\\site-packages\\tensorboard\\compat\\tensorflow_stub\\dtypes.py:543: FutureWarning: Passing (type, 1) or '1type' as a synonym of type is deprecated; in a future version of numpy, it will be understood as (type, (1,)) / '(1,)type'.\n",
      "  _np_qint16 = np.dtype([(\"qint16\", np.int16, 1)])\n",
      "C:\\Users\\pepe\\Anaconda3\\envs\\TensorFlow\\lib\\site-packages\\tensorboard\\compat\\tensorflow_stub\\dtypes.py:544: FutureWarning: Passing (type, 1) or '1type' as a synonym of type is deprecated; in a future version of numpy, it will be understood as (type, (1,)) / '(1,)type'.\n",
      "  _np_quint16 = np.dtype([(\"quint16\", np.uint16, 1)])\n",
      "C:\\Users\\pepe\\Anaconda3\\envs\\TensorFlow\\lib\\site-packages\\tensorboard\\compat\\tensorflow_stub\\dtypes.py:545: FutureWarning: Passing (type, 1) or '1type' as a synonym of type is deprecated; in a future version of numpy, it will be understood as (type, (1,)) / '(1,)type'.\n",
      "  _np_qint32 = np.dtype([(\"qint32\", np.int32, 1)])\n",
      "C:\\Users\\pepe\\Anaconda3\\envs\\TensorFlow\\lib\\site-packages\\tensorboard\\compat\\tensorflow_stub\\dtypes.py:550: FutureWarning: Passing (type, 1) or '1type' as a synonym of type is deprecated; in a future version of numpy, it will be understood as (type, (1,)) / '(1,)type'.\n",
      "  np_resource = np.dtype([(\"resource\", np.ubyte, 1)])\n"
     ]
    }
   ],
   "source": [
    "import os\n",
    "import numpy as np #For array operations\n",
    "import matplotlib.pyplot as plt\n",
    "import os\n",
    "import pickle\n",
    "import sys\n",
    "import keras\n",
    "import time\n",
    "from keras.models import Sequential\n",
    "from keras.layers import Dense, Dropout\n",
    "from keras.layers.normalization import BatchNormalization\n",
    "from keras.callbacks import TensorBoard \n",
    "from sklearn.model_selection import train_test_split"
   ]
  },
  {
   "cell_type": "code",
   "execution_count": 7,
   "metadata": {},
   "outputs": [
    {
     "name": "stdout",
     "output_type": "stream",
     "text": [
      "[[1.03355015e-03 1.82983208e-06 4.82740504e-01 ... 0.00000000e+00\n",
      "  0.00000000e+00 0.00000000e+00]\n",
      " [3.27593484e-05 8.93436775e-06 5.54609812e-01 ... 0.00000000e+00\n",
      "  0.00000000e+00 0.00000000e+00]\n",
      " [6.28702073e-05 1.71464202e-05 2.00041569e-05 ... 0.00000000e+00\n",
      "  0.00000000e+00 0.00000000e+00]\n",
      " ...\n",
      " [2.51606193e-04 7.18874836e-05 3.71418665e-04 ... 0.00000000e+00\n",
      "  0.00000000e+00 0.00000000e+00]\n",
      " [5.21664130e-07 3.91248097e-08 3.53553391e-01 ... 0.00000000e+00\n",
      "  0.00000000e+00 0.00000000e+00]\n",
      " [1.11358522e-03 1.97152886e-06 4.65835468e-01 ... 0.00000000e+00\n",
      "  0.00000000e+00 0.00000000e+00]]\n",
      "[[1. 0. 0.]\n",
      " [0. 0. 1.]\n",
      " [0. 0. 1.]\n",
      " ...\n",
      " [0. 1. 0.]\n",
      " [1. 0. 0.]\n",
      " [1. 0. 0.]]\n"
     ]
    }
   ],
   "source": [
    "np.random.seed(42)\n",
    "pickle_in = open(\"X.pickle\", \"rb\")\n",
    "X = pickle.load(pickle_in)\n",
    "pickle_in.close()\n",
    "\n",
    "pickle_in = open(\"y.pickle\", \"rb\")\n",
    "y = pickle.load(pickle_in)\n",
    "pickle_in.close() \n",
    "\n",
    "print(X)\n",
    "print(y)\n",
    "dimX = len(X[0])\n",
    "dimy = y.shape[1]"
   ]
  },
  {
   "cell_type": "code",
   "execution_count": 40,
   "metadata": {},
   "outputs": [],
   "source": [
    "p = {'input_neuron':[32, 64, 128, 256],\n",
    "     'first_neuron':[32, 64, 128, 256],\n",
    "     'hidden_layers':[1, 2, 3],\n",
    "     'shapes': [0.0],\n",
    "     'dropout': [0.0, 0.2],\n",
    "     'activation':['relu'],\n",
    "     'batch_size': [10, 64],\n",
    "     'optimizer': ['adam', 'nadam']}"
   ]
  },
  {
   "cell_type": "code",
   "execution_count": 50,
   "metadata": {},
   "outputs": [],
   "source": [
    "def def_model(X, y, X_val, y_val, params):\n",
    "    dimX = len(X[0])\n",
    "    dimy = y.shape[1]\n",
    "\n",
    "    model = Sequential()\n",
    "    model.add(Dense(params['input_neuron'], activation='relu', input_shape=(dimX,)))\n",
    "    model.add(Dropout(params['dropout']))\n",
    "    \n",
    "    talos.utils.hidden_layers(model, params, 1)\n",
    "    \n",
    "    model.add(Dense(dimy, activation='softmax'))\n",
    "    NAME = \"IDS-ML-InputNeurons={}-HiddenLayers={}-HiddenNeurons={}-Dropout={}=Optimizer{}\".format(params['input_neuron'], params['hidden_layers'], params['first_neuron'], params['dropout'], params['optimizer'])\n",
    "    print(NAME)\n",
    "    tensorboard = TensorBoard('logsTalos1/{}'.format(NAME))\n",
    "    #tensorboard = TensorBoard('logsTalos/1')\n",
    "    \n",
    "    print(params['input_neuron'])\n",
    "   \n",
    "    #Configure Model\n",
    "    model.compile(loss='categorical_crossentropy', \n",
    "                  optimizer=params['optimizer'],\n",
    "                  metrics=['accuracy'])\n",
    "    \n",
    "    out = model.fit(X, y,\n",
    "                    validation_data=[X_val, y_val],\n",
    "                    batch_size=params['batch_size'],\n",
    "                    epochs=1,\n",
    "                    verbose=2,\n",
    "                    callbacks=[tensorboard])\n",
    "    return out, model"
   ]
  },
  {
   "cell_type": "code",
   "execution_count": 9,
   "metadata": {},
   "outputs": [],
   "source": [
    "import talos"
   ]
  },
  {
   "cell_type": "code",
   "execution_count": 51,
   "metadata": {},
   "outputs": [
    {
     "name": "stderr",
     "output_type": "stream",
     "text": [
      "\n",
      "\n",
      "\n",
      "\n",
      "\n",
      "\n",
      "\n",
      "\n",
      "  0%|                                                                                          | 0/192 [00:00<?, ?it/s]\u001b[A\u001b[A\u001b[A\u001b[A\u001b[A\u001b[A\u001b[A\u001b[A"
     ]
    },
    {
     "name": "stdout",
     "output_type": "stream",
     "text": [
      "Empezamos con el entrenamiento a las:  2020-01-31 18:08:36.455879\n",
      "IDS-ML-InputNeurons=32-HiddenLayers=1-HiddenNeurons=32-Dropout=0.0=Optimizeradam\n",
      "32\n",
      "Train on 9113 samples, validate on 1013 samples\n",
      "Epoch 1/1\n",
      " - 0s - loss: 0.8235 - accuracy: 0.7020 - val_loss: 0.5966 - val_accuracy: 0.8233\n"
     ]
    },
    {
     "name": "stderr",
     "output_type": "stream",
     "text": [
      "\n",
      "\n",
      "\n",
      "\n",
      "\n",
      "\n",
      "\n",
      "\n",
      "  1%|▍                                                                                 | 1/192 [00:03<10:38,  3.34s/it]\u001b[A\u001b[A\u001b[A\u001b[A\u001b[A\u001b[A\u001b[A\u001b[A"
     ]
    },
    {
     "name": "stdout",
     "output_type": "stream",
     "text": [
      "IDS-ML-InputNeurons=32-HiddenLayers=1-HiddenNeurons=32-Dropout=0.0=Optimizernadam\n",
      "32\n",
      "Train on 9113 samples, validate on 1013 samples\n",
      "Epoch 1/1\n",
      " - 0s - loss: 0.6650 - accuracy: 0.7858 - val_loss: 0.3958 - val_accuracy: 0.8233\n"
     ]
    },
    {
     "name": "stderr",
     "output_type": "stream",
     "text": [
      "\n",
      "\n",
      "\n",
      "\n",
      "\n",
      "\n",
      "\n",
      "\n",
      "  1%|▊                                                                                 | 2/192 [00:05<09:41,  3.06s/it]\u001b[A\u001b[A\u001b[A\u001b[A\u001b[A\u001b[A\u001b[A\u001b[A"
     ]
    },
    {
     "name": "stdout",
     "output_type": "stream",
     "text": [
      "IDS-ML-InputNeurons=64-HiddenLayers=1-HiddenNeurons=32-Dropout=0.0=Optimizeradam\n",
      "64\n",
      "Train on 9113 samples, validate on 1013 samples\n",
      "Epoch 1/1\n",
      " - 0s - loss: 0.7806 - accuracy: 0.7839 - val_loss: 0.5260 - val_accuracy: 0.8203\n"
     ]
    },
    {
     "name": "stderr",
     "output_type": "stream",
     "text": [
      "\n",
      "\n",
      "\n",
      "\n",
      "\n",
      "\n",
      "\n",
      "\n",
      "  2%|█▎                                                                                | 3/192 [00:08<09:01,  2.87s/it]\u001b[A\u001b[A\u001b[A\u001b[A\u001b[A\u001b[A\u001b[A\u001b[A"
     ]
    },
    {
     "name": "stdout",
     "output_type": "stream",
     "text": [
      "IDS-ML-InputNeurons=64-HiddenLayers=1-HiddenNeurons=32-Dropout=0.0=Optimizernadam\n",
      "64\n",
      "Train on 9113 samples, validate on 1013 samples\n",
      "Epoch 1/1\n",
      " - 0s - loss: 0.5966 - accuracy: 0.8098 - val_loss: 0.2965 - val_accuracy: 0.9033\n"
     ]
    },
    {
     "name": "stderr",
     "output_type": "stream",
     "text": [
      "\n",
      "\n",
      "\n",
      "\n",
      "\n",
      "\n",
      "\n",
      "\n",
      "  2%|█▋                                                                                | 4/192 [00:10<08:27,  2.70s/it]\u001b[A\u001b[A\u001b[A\u001b[A\u001b[A\u001b[A\u001b[A\u001b[A"
     ]
    },
    {
     "name": "stdout",
     "output_type": "stream",
     "text": [
      "IDS-ML-InputNeurons=128-HiddenLayers=1-HiddenNeurons=32-Dropout=0.0=Optimizeradam\n",
      "128\n",
      "Train on 9113 samples, validate on 1013 samples\n",
      "Epoch 1/1\n",
      " - 0s - loss: 0.6904 - accuracy: 0.7916 - val_loss: 0.4596 - val_accuracy: 0.8233\n"
     ]
    },
    {
     "name": "stderr",
     "output_type": "stream",
     "text": [
      "\n",
      "\n",
      "\n",
      "\n",
      "\n",
      "\n",
      "\n",
      "\n",
      "  3%|██▏                                                                               | 5/192 [00:13<08:17,  2.66s/it]\u001b[A\u001b[A\u001b[A\u001b[A\u001b[A\u001b[A\u001b[A\u001b[A"
     ]
    },
    {
     "name": "stdout",
     "output_type": "stream",
     "text": [
      "IDS-ML-InputNeurons=128-HiddenLayers=1-HiddenNeurons=32-Dropout=0.0=Optimizernadam\n",
      "128\n",
      "Train on 9113 samples, validate on 1013 samples\n",
      "Epoch 1/1\n",
      " - 0s - loss: 0.5574 - accuracy: 0.8061 - val_loss: 0.2893 - val_accuracy: 0.9033\n"
     ]
    },
    {
     "name": "stderr",
     "output_type": "stream",
     "text": [
      "\n",
      "\n",
      "\n",
      "\n",
      "\n",
      "\n",
      "\n",
      "\n",
      "  3%|██▌                                                                               | 6/192 [00:15<08:24,  2.71s/it]\u001b[A\u001b[A\u001b[A\u001b[A\u001b[A\u001b[A\u001b[A\u001b[A"
     ]
    },
    {
     "name": "stdout",
     "output_type": "stream",
     "text": [
      "IDS-ML-InputNeurons=256-HiddenLayers=1-HiddenNeurons=32-Dropout=0.0=Optimizeradam\n",
      "256\n",
      "Train on 9113 samples, validate on 1013 samples\n",
      "Epoch 1/1\n",
      " - 0s - loss: 0.5666 - accuracy: 0.7861 - val_loss: 0.3341 - val_accuracy: 0.8618\n"
     ]
    },
    {
     "name": "stderr",
     "output_type": "stream",
     "text": [
      "\n",
      "\n",
      "\n",
      "\n",
      "\n",
      "\n",
      "\n",
      "\n",
      "  4%|██▉                                                                               | 7/192 [00:18<07:55,  2.57s/it]\u001b[A\u001b[A\u001b[A\u001b[A\u001b[A\u001b[A\u001b[A\u001b[A"
     ]
    },
    {
     "name": "stdout",
     "output_type": "stream",
     "text": [
      "IDS-ML-InputNeurons=256-HiddenLayers=1-HiddenNeurons=32-Dropout=0.0=Optimizernadam\n",
      "256\n",
      "Train on 9113 samples, validate on 1013 samples\n",
      "Epoch 1/1\n",
      " - 0s - loss: 0.4532 - accuracy: 0.8368 - val_loss: 0.2292 - val_accuracy: 0.9092\n"
     ]
    },
    {
     "name": "stderr",
     "output_type": "stream",
     "text": [
      "\n",
      "\n",
      "\n",
      "\n",
      "\n",
      "\n",
      "\n",
      "\n",
      "  4%|███▍                                                                              | 8/192 [00:20<07:34,  2.47s/it]\u001b[A\u001b[A\u001b[A\u001b[A\u001b[A\u001b[A\u001b[A\u001b[A"
     ]
    },
    {
     "name": "stdout",
     "output_type": "stream",
     "text": [
      "IDS-ML-InputNeurons=32-HiddenLayers=2-HiddenNeurons=32-Dropout=0.0=Optimizeradam\n",
      "32\n",
      "Train on 9113 samples, validate on 1013 samples\n",
      "Epoch 1/1\n",
      " - 0s - loss: 0.8515 - accuracy: 0.8166 - val_loss: 0.5865 - val_accuracy: 0.8213\n"
     ]
    },
    {
     "name": "stderr",
     "output_type": "stream",
     "text": [
      "\n",
      "\n",
      "\n",
      "\n",
      "\n",
      "\n",
      "\n",
      "\n",
      "  5%|███▊                                                                              | 9/192 [00:22<07:36,  2.49s/it]\u001b[A\u001b[A\u001b[A\u001b[A\u001b[A\u001b[A\u001b[A\u001b[A"
     ]
    },
    {
     "name": "stdout",
     "output_type": "stream",
     "text": [
      "IDS-ML-InputNeurons=32-HiddenLayers=2-HiddenNeurons=32-Dropout=0.0=Optimizernadam\n",
      "32\n",
      "Train on 9113 samples, validate on 1013 samples\n",
      "Epoch 1/1\n",
      " - 0s - loss: 0.5765 - accuracy: 0.7731 - val_loss: 0.3124 - val_accuracy: 0.8233\n"
     ]
    },
    {
     "name": "stderr",
     "output_type": "stream",
     "text": [
      "\n",
      "\n",
      "\n",
      "\n",
      "\n",
      "\n",
      "\n",
      "\n",
      "  5%|████▏                                                                            | 10/192 [00:25<07:46,  2.57s/it]\u001b[A\u001b[A\u001b[A\u001b[A\u001b[A\u001b[A\u001b[A\u001b[A"
     ]
    },
    {
     "name": "stdout",
     "output_type": "stream",
     "text": [
      "IDS-ML-InputNeurons=64-HiddenLayers=2-HiddenNeurons=32-Dropout=0.0=Optimizeradam\n",
      "64\n",
      "Train on 9113 samples, validate on 1013 samples\n",
      "Epoch 1/1\n",
      " - 0s - loss: 0.7869 - accuracy: 0.7977 - val_loss: 0.4960 - val_accuracy: 0.8213\n"
     ]
    },
    {
     "name": "stderr",
     "output_type": "stream",
     "text": [
      "\n",
      "\n",
      "\n",
      "\n",
      "\n",
      "\n",
      "\n",
      "\n",
      "  6%|████▋                                                                            | 11/192 [00:28<07:39,  2.54s/it]\u001b[A\u001b[A\u001b[A\u001b[A\u001b[A\u001b[A\u001b[A\u001b[A"
     ]
    },
    {
     "name": "stdout",
     "output_type": "stream",
     "text": [
      "IDS-ML-InputNeurons=64-HiddenLayers=2-HiddenNeurons=32-Dropout=0.0=Optimizernadam\n",
      "64\n",
      "Train on 9113 samples, validate on 1013 samples\n",
      "Epoch 1/1\n",
      " - 0s - loss: 0.5686 - accuracy: 0.8050 - val_loss: 0.2693 - val_accuracy: 0.9082\n"
     ]
    },
    {
     "name": "stderr",
     "output_type": "stream",
     "text": [
      "\n",
      "\n",
      "\n",
      "\n",
      "\n",
      "\n",
      "\n",
      "\n",
      "  6%|█████                                                                            | 12/192 [00:30<07:47,  2.60s/it]\u001b[A\u001b[A\u001b[A\u001b[A\u001b[A\u001b[A\u001b[A\u001b[A"
     ]
    },
    {
     "name": "stdout",
     "output_type": "stream",
     "text": [
      "IDS-ML-InputNeurons=128-HiddenLayers=2-HiddenNeurons=32-Dropout=0.0=Optimizeradam\n",
      "128\n",
      "Train on 9113 samples, validate on 1013 samples\n",
      "Epoch 1/1\n",
      " - 0s - loss: 0.7330 - accuracy: 0.7279 - val_loss: 0.4308 - val_accuracy: 0.8213\n"
     ]
    },
    {
     "name": "stderr",
     "output_type": "stream",
     "text": [
      "\n",
      "\n",
      "\n",
      "\n",
      "\n",
      "\n",
      "\n",
      "\n",
      "  7%|█████▍                                                                           | 13/192 [00:33<07:37,  2.55s/it]\u001b[A\u001b[A\u001b[A\u001b[A\u001b[A\u001b[A\u001b[A\u001b[A"
     ]
    },
    {
     "name": "stdout",
     "output_type": "stream",
     "text": [
      "IDS-ML-InputNeurons=128-HiddenLayers=2-HiddenNeurons=32-Dropout=0.0=Optimizernadam\n",
      "128\n",
      "Train on 9113 samples, validate on 1013 samples\n",
      "Epoch 1/1\n",
      " - 0s - loss: 0.4615 - accuracy: 0.8417 - val_loss: 0.2111 - val_accuracy: 0.9102\n"
     ]
    },
    {
     "name": "stderr",
     "output_type": "stream",
     "text": [
      "\n",
      "\n",
      "\n",
      "\n",
      "\n",
      "\n",
      "\n",
      "\n",
      "  7%|█████▉                                                                           | 14/192 [00:36<07:46,  2.62s/it]\u001b[A\u001b[A\u001b[A\u001b[A\u001b[A\u001b[A\u001b[A\u001b[A"
     ]
    },
    {
     "name": "stdout",
     "output_type": "stream",
     "text": [
      "IDS-ML-InputNeurons=256-HiddenLayers=2-HiddenNeurons=32-Dropout=0.0=Optimizeradam\n",
      "256\n",
      "Train on 9113 samples, validate on 1013 samples\n",
      "Epoch 1/1\n",
      " - 0s - loss: 0.6572 - accuracy: 0.7975 - val_loss: 0.3553 - val_accuracy: 0.8223\n"
     ]
    },
    {
     "name": "stderr",
     "output_type": "stream",
     "text": [
      "\n",
      "\n",
      "\n",
      "\n",
      "\n",
      "\n",
      "\n",
      "\n",
      "  8%|██████▎                                                                          | 15/192 [00:38<07:52,  2.67s/it]\u001b[A\u001b[A\u001b[A\u001b[A\u001b[A\u001b[A\u001b[A\u001b[A"
     ]
    },
    {
     "name": "stdout",
     "output_type": "stream",
     "text": [
      "IDS-ML-InputNeurons=256-HiddenLayers=2-HiddenNeurons=32-Dropout=0.0=Optimizernadam\n",
      "256\n",
      "Train on 9113 samples, validate on 1013 samples\n",
      "Epoch 1/1\n",
      " - 0s - loss: 0.4532 - accuracy: 0.8151 - val_loss: 0.2303 - val_accuracy: 0.9092\n"
     ]
    },
    {
     "name": "stderr",
     "output_type": "stream",
     "text": [
      "\n",
      "\n",
      "\n",
      "\n",
      "\n",
      "\n",
      "\n",
      "\n",
      "  8%|██████▊                                                                          | 16/192 [00:41<07:54,  2.69s/it]\u001b[A\u001b[A\u001b[A\u001b[A\u001b[A\u001b[A\u001b[A\u001b[A"
     ]
    },
    {
     "name": "stdout",
     "output_type": "stream",
     "text": [
      "IDS-ML-InputNeurons=32-HiddenLayers=3-HiddenNeurons=32-Dropout=0.0=Optimizeradam\n",
      "32\n",
      "Train on 9113 samples, validate on 1013 samples\n",
      "Epoch 1/1\n",
      " - 0s - loss: 0.7977 - accuracy: 0.6583 - val_loss: 0.5125 - val_accuracy: 0.8233\n"
     ]
    },
    {
     "name": "stderr",
     "output_type": "stream",
     "text": [
      "\n",
      "\n",
      "\n",
      "\n",
      "\n",
      "\n",
      "\n",
      "\n",
      "  9%|███████▏                                                                         | 17/192 [00:44<08:07,  2.79s/it]\u001b[A\u001b[A\u001b[A\u001b[A\u001b[A\u001b[A\u001b[A\u001b[A"
     ]
    },
    {
     "name": "stdout",
     "output_type": "stream",
     "text": [
      "IDS-ML-InputNeurons=32-HiddenLayers=3-HiddenNeurons=32-Dropout=0.0=Optimizernadam\n",
      "32\n",
      "Train on 9113 samples, validate on 1013 samples\n",
      "Epoch 1/1\n",
      " - 0s - loss: 0.5570 - accuracy: 0.7766 - val_loss: 0.2263 - val_accuracy: 0.9062\n"
     ]
    },
    {
     "name": "stderr",
     "output_type": "stream",
     "text": [
      "\n",
      "\n",
      "\n",
      "\n",
      "\n",
      "\n",
      "\n",
      "\n",
      "  9%|███████▌                                                                         | 18/192 [00:48<08:36,  2.97s/it]\u001b[A\u001b[A\u001b[A\u001b[A\u001b[A\u001b[A\u001b[A\u001b[A"
     ]
    },
    {
     "name": "stdout",
     "output_type": "stream",
     "text": [
      "IDS-ML-InputNeurons=64-HiddenLayers=3-HiddenNeurons=32-Dropout=0.0=Optimizeradam\n",
      "64\n",
      "Train on 9113 samples, validate on 1013 samples\n",
      "Epoch 1/1\n",
      " - 0s - loss: 0.8032 - accuracy: 0.6810 - val_loss: 0.4347 - val_accuracy: 0.8233\n"
     ]
    },
    {
     "name": "stderr",
     "output_type": "stream",
     "text": [
      "\n",
      "\n",
      "\n",
      "\n",
      "\n",
      "\n",
      "\n",
      "\n",
      " 10%|████████                                                                         | 19/192 [00:50<08:28,  2.94s/it]\u001b[A\u001b[A\u001b[A\u001b[A\u001b[A\u001b[A\u001b[A\u001b[A"
     ]
    },
    {
     "name": "stdout",
     "output_type": "stream",
     "text": [
      "IDS-ML-InputNeurons=64-HiddenLayers=3-HiddenNeurons=32-Dropout=0.0=Optimizernadam\n",
      "64\n",
      "Train on 9113 samples, validate on 1013 samples\n",
      "Epoch 1/1\n",
      " - 0s - loss: 0.5551 - accuracy: 0.8113 - val_loss: 0.2148 - val_accuracy: 0.9102\n"
     ]
    },
    {
     "name": "stderr",
     "output_type": "stream",
     "text": [
      "\n",
      "\n",
      "\n",
      "\n",
      "\n",
      "\n",
      "\n",
      "\n",
      " 10%|████████▍                                                                        | 20/192 [00:54<08:45,  3.06s/it]\u001b[A\u001b[A\u001b[A\u001b[A\u001b[A\u001b[A\u001b[A\u001b[A"
     ]
    },
    {
     "name": "stdout",
     "output_type": "stream",
     "text": [
      "IDS-ML-InputNeurons=128-HiddenLayers=3-HiddenNeurons=32-Dropout=0.0=Optimizeradam\n",
      "128\n",
      "Train on 9113 samples, validate on 1013 samples\n",
      "Epoch 1/1\n",
      " - 0s - loss: 0.7330 - accuracy: 0.7154 - val_loss: 0.4436 - val_accuracy: 0.8233\n"
     ]
    },
    {
     "name": "stderr",
     "output_type": "stream",
     "text": [
      "\n",
      "\n",
      "\n",
      "\n",
      "\n",
      "\n",
      "\n",
      "\n",
      " 11%|████████▊                                                                        | 21/192 [00:57<08:34,  3.01s/it]\u001b[A\u001b[A\u001b[A\u001b[A\u001b[A\u001b[A\u001b[A\u001b[A"
     ]
    },
    {
     "name": "stdout",
     "output_type": "stream",
     "text": [
      "IDS-ML-InputNeurons=128-HiddenLayers=3-HiddenNeurons=32-Dropout=0.0=Optimizernadam\n",
      "128\n",
      "Train on 9113 samples, validate on 1013 samples\n",
      "Epoch 1/1\n",
      " - 0s - loss: 0.4675 - accuracy: 0.8381 - val_loss: 0.1937 - val_accuracy: 0.9102\n"
     ]
    },
    {
     "name": "stderr",
     "output_type": "stream",
     "text": [
      "\n",
      "\n",
      "\n",
      "\n",
      "\n",
      "\n",
      "\n",
      "\n",
      " 11%|█████████▎                                                                       | 22/192 [01:00<08:50,  3.12s/it]\u001b[A\u001b[A\u001b[A\u001b[A\u001b[A\u001b[A\u001b[A\u001b[A"
     ]
    },
    {
     "name": "stdout",
     "output_type": "stream",
     "text": [
      "IDS-ML-InputNeurons=256-HiddenLayers=3-HiddenNeurons=32-Dropout=0.0=Optimizeradam\n",
      "256\n",
      "Train on 9113 samples, validate on 1013 samples\n",
      "Epoch 1/1\n",
      " - 0s - loss: 0.6119 - accuracy: 0.7444 - val_loss: 0.3410 - val_accuracy: 0.8233\n"
     ]
    },
    {
     "name": "stderr",
     "output_type": "stream",
     "text": [
      "\n",
      "\n",
      "\n",
      "\n",
      "\n",
      "\n",
      "\n",
      "\n",
      " 12%|█████████▋                                                                       | 23/192 [01:03<08:43,  3.10s/it]\u001b[A\u001b[A\u001b[A\u001b[A\u001b[A\u001b[A\u001b[A\u001b[A"
     ]
    },
    {
     "name": "stdout",
     "output_type": "stream",
     "text": [
      "IDS-ML-InputNeurons=256-HiddenLayers=3-HiddenNeurons=32-Dropout=0.0=Optimizernadam\n",
      "256\n",
      "Train on 9113 samples, validate on 1013 samples\n",
      "Epoch 1/1\n",
      " - 0s - loss: 0.4684 - accuracy: 0.8015 - val_loss: 0.2041 - val_accuracy: 0.9102\n"
     ]
    },
    {
     "name": "stderr",
     "output_type": "stream",
     "text": [
      "\n",
      "\n",
      "\n",
      "\n",
      "\n",
      "\n",
      "\n",
      "\n",
      " 12%|██████████▏                                                                      | 24/192 [01:06<08:46,  3.13s/it]\u001b[A\u001b[A\u001b[A\u001b[A\u001b[A\u001b[A\u001b[A\u001b[A"
     ]
    },
    {
     "name": "stdout",
     "output_type": "stream",
     "text": [
      "IDS-ML-InputNeurons=32-HiddenLayers=1-HiddenNeurons=64-Dropout=0.0=Optimizeradam\n",
      "32\n",
      "Train on 9113 samples, validate on 1013 samples\n",
      "Epoch 1/1\n",
      " - 0s - loss: 0.8265 - accuracy: 0.7375 - val_loss: 0.5788 - val_accuracy: 0.8134\n"
     ]
    },
    {
     "name": "stderr",
     "output_type": "stream",
     "text": [
      "\n",
      "\n",
      "\n",
      "\n",
      "\n",
      "\n",
      "\n",
      "\n",
      " 13%|██████████▌                                                                      | 25/192 [01:09<08:04,  2.90s/it]\u001b[A\u001b[A\u001b[A\u001b[A\u001b[A\u001b[A\u001b[A\u001b[A"
     ]
    },
    {
     "name": "stdout",
     "output_type": "stream",
     "text": [
      "IDS-ML-InputNeurons=32-HiddenLayers=1-HiddenNeurons=64-Dropout=0.0=Optimizernadam\n",
      "32\n",
      "Train on 9113 samples, validate on 1013 samples\n",
      "Epoch 1/1\n",
      " - 0s - loss: 0.6437 - accuracy: 0.7231 - val_loss: 0.3506 - val_accuracy: 0.8213\n"
     ]
    },
    {
     "name": "stderr",
     "output_type": "stream",
     "text": [
      "\n",
      "\n",
      "\n",
      "\n",
      "\n",
      "\n",
      "\n",
      "\n",
      " 14%|██████████▉                                                                      | 26/192 [01:11<07:30,  2.71s/it]\u001b[A\u001b[A\u001b[A\u001b[A\u001b[A\u001b[A\u001b[A\u001b[A"
     ]
    },
    {
     "name": "stdout",
     "output_type": "stream",
     "text": [
      "IDS-ML-InputNeurons=64-HiddenLayers=1-HiddenNeurons=64-Dropout=0.0=Optimizeradam\n",
      "64\n",
      "Train on 9113 samples, validate on 1013 samples\n",
      "Epoch 1/1\n",
      " - 0s - loss: 0.7403 - accuracy: 0.7863 - val_loss: 0.4614 - val_accuracy: 0.8164\n"
     ]
    },
    {
     "name": "stderr",
     "output_type": "stream",
     "text": [
      "\n",
      "\n",
      "\n",
      "\n",
      "\n",
      "\n",
      "\n",
      "\n",
      " 14%|███████████▍                                                                     | 27/192 [01:13<06:57,  2.53s/it]\u001b[A\u001b[A\u001b[A\u001b[A\u001b[A\u001b[A\u001b[A\u001b[A"
     ]
    },
    {
     "name": "stdout",
     "output_type": "stream",
     "text": [
      "IDS-ML-InputNeurons=64-HiddenLayers=1-HiddenNeurons=64-Dropout=0.0=Optimizernadam\n",
      "64\n",
      "Train on 9113 samples, validate on 1013 samples\n",
      "Epoch 1/1\n",
      " - 0s - loss: 0.5430 - accuracy: 0.7973 - val_loss: 0.2780 - val_accuracy: 0.9072\n"
     ]
    },
    {
     "name": "stderr",
     "output_type": "stream",
     "text": [
      "\n",
      "\n",
      "\n",
      "\n",
      "\n",
      "\n",
      "\n",
      "\n",
      " 15%|███████████▊                                                                     | 28/192 [01:15<06:48,  2.49s/it]\u001b[A\u001b[A\u001b[A\u001b[A\u001b[A\u001b[A\u001b[A\u001b[A"
     ]
    },
    {
     "name": "stdout",
     "output_type": "stream",
     "text": [
      "IDS-ML-InputNeurons=128-HiddenLayers=1-HiddenNeurons=64-Dropout=0.0=Optimizeradam\n",
      "128\n",
      "Train on 9113 samples, validate on 1013 samples\n",
      "Epoch 1/1\n",
      " - 0s - loss: 0.6369 - accuracy: 0.7895 - val_loss: 0.3817 - val_accuracy: 0.8213\n"
     ]
    },
    {
     "name": "stderr",
     "output_type": "stream",
     "text": [
      "\n",
      "\n",
      "\n",
      "\n",
      "\n",
      "\n",
      "\n",
      "\n",
      " 15%|████████████▏                                                                    | 29/192 [01:18<06:45,  2.49s/it]\u001b[A\u001b[A\u001b[A\u001b[A\u001b[A\u001b[A\u001b[A\u001b[A"
     ]
    },
    {
     "name": "stdout",
     "output_type": "stream",
     "text": [
      "IDS-ML-InputNeurons=128-HiddenLayers=1-HiddenNeurons=64-Dropout=0.0=Optimizernadam\n",
      "128\n",
      "Train on 9113 samples, validate on 1013 samples\n",
      "Epoch 1/1\n",
      " - 0s - loss: 0.4695 - accuracy: 0.8378 - val_loss: 0.2819 - val_accuracy: 0.8569\n"
     ]
    },
    {
     "name": "stderr",
     "output_type": "stream",
     "text": [
      "\n",
      "\n",
      "\n",
      "\n",
      "\n",
      "\n",
      "\n",
      "\n",
      " 16%|████████████▋                                                                    | 30/192 [01:20<06:34,  2.44s/it]\u001b[A\u001b[A\u001b[A\u001b[A\u001b[A\u001b[A\u001b[A\u001b[A"
     ]
    },
    {
     "name": "stdout",
     "output_type": "stream",
     "text": [
      "IDS-ML-InputNeurons=256-HiddenLayers=1-HiddenNeurons=64-Dropout=0.0=Optimizeradam\n",
      "256\n",
      "Train on 9113 samples, validate on 1013 samples\n",
      "Epoch 1/1\n",
      " - 0s - loss: 0.5651 - accuracy: 0.8205 - val_loss: 0.3174 - val_accuracy: 0.8638\n"
     ]
    },
    {
     "name": "stderr",
     "output_type": "stream",
     "text": [
      "\n",
      "\n",
      "\n",
      "\n",
      "\n",
      "\n",
      "\n",
      "\n",
      " 16%|█████████████                                                                    | 31/192 [01:22<06:11,  2.30s/it]\u001b[A\u001b[A\u001b[A\u001b[A\u001b[A\u001b[A\u001b[A\u001b[A"
     ]
    },
    {
     "name": "stdout",
     "output_type": "stream",
     "text": [
      "IDS-ML-InputNeurons=256-HiddenLayers=1-HiddenNeurons=64-Dropout=0.0=Optimizernadam\n",
      "256\n",
      "Train on 9113 samples, validate on 1013 samples\n",
      "Epoch 1/1\n",
      " - 0s - loss: 0.4089 - accuracy: 0.8570 - val_loss: 0.2279 - val_accuracy: 0.8529\n"
     ]
    },
    {
     "name": "stderr",
     "output_type": "stream",
     "text": [
      "\n",
      "\n",
      "\n",
      "\n",
      "\n",
      "\n",
      "\n",
      "\n",
      " 17%|█████████████▌                                                                   | 32/192 [01:25<06:12,  2.33s/it]\u001b[A\u001b[A\u001b[A\u001b[A\u001b[A\u001b[A\u001b[A\u001b[A"
     ]
    },
    {
     "name": "stdout",
     "output_type": "stream",
     "text": [
      "IDS-ML-InputNeurons=32-HiddenLayers=2-HiddenNeurons=64-Dropout=0.0=Optimizeradam\n",
      "32\n",
      "Train on 9113 samples, validate on 1013 samples\n",
      "Epoch 1/1\n",
      " - 0s - loss: 0.6980 - accuracy: 0.7273 - val_loss: 0.4547 - val_accuracy: 0.8184\n"
     ]
    },
    {
     "name": "stderr",
     "output_type": "stream",
     "text": [
      "\n",
      "\n",
      "\n",
      "\n",
      "\n",
      "\n",
      "\n",
      "\n",
      " 17%|█████████████▉                                                                   | 33/192 [01:27<06:18,  2.38s/it]\u001b[A\u001b[A\u001b[A\u001b[A\u001b[A\u001b[A\u001b[A\u001b[A"
     ]
    },
    {
     "name": "stdout",
     "output_type": "stream",
     "text": [
      "IDS-ML-InputNeurons=32-HiddenLayers=2-HiddenNeurons=64-Dropout=0.0=Optimizernadam\n",
      "32\n",
      "Train on 9113 samples, validate on 1013 samples\n",
      "Epoch 1/1\n",
      " - 0s - loss: 0.5001 - accuracy: 0.7981 - val_loss: 0.2084 - val_accuracy: 0.9102\n"
     ]
    },
    {
     "name": "stderr",
     "output_type": "stream",
     "text": [
      "\n",
      "\n",
      "\n",
      "\n",
      "\n",
      "\n",
      "\n",
      "\n",
      " 18%|██████████████▎                                                                  | 34/192 [01:30<06:40,  2.54s/it]\u001b[A\u001b[A\u001b[A\u001b[A\u001b[A\u001b[A\u001b[A\u001b[A"
     ]
    },
    {
     "name": "stdout",
     "output_type": "stream",
     "text": [
      "IDS-ML-InputNeurons=64-HiddenLayers=2-HiddenNeurons=64-Dropout=0.0=Optimizeradam\n",
      "64\n",
      "Train on 9113 samples, validate on 1013 samples\n",
      "Epoch 1/1\n",
      " - 0s - loss: 0.6488 - accuracy: 0.7955 - val_loss: 0.3653 - val_accuracy: 0.8223\n"
     ]
    },
    {
     "name": "stderr",
     "output_type": "stream",
     "text": [
      "\n",
      "\n",
      "\n",
      "\n",
      "\n",
      "\n",
      "\n",
      "\n",
      " 18%|██████████████▊                                                                  | 35/192 [01:32<06:30,  2.49s/it]\u001b[A\u001b[A\u001b[A\u001b[A\u001b[A\u001b[A\u001b[A\u001b[A"
     ]
    },
    {
     "name": "stdout",
     "output_type": "stream",
     "text": [
      "IDS-ML-InputNeurons=64-HiddenLayers=2-HiddenNeurons=64-Dropout=0.0=Optimizernadam\n",
      "64\n",
      "Train on 9113 samples, validate on 1013 samples\n",
      "Epoch 1/1\n",
      " - 0s - loss: 0.4629 - accuracy: 0.8136 - val_loss: 0.2395 - val_accuracy: 0.9062\n"
     ]
    },
    {
     "name": "stderr",
     "output_type": "stream",
     "text": [
      "\n",
      "\n",
      "\n",
      "\n",
      "\n",
      "\n",
      "\n",
      "\n",
      " 19%|███████████████▏                                                                 | 36/192 [01:35<06:54,  2.66s/it]\u001b[A\u001b[A\u001b[A\u001b[A\u001b[A\u001b[A\u001b[A\u001b[A"
     ]
    },
    {
     "name": "stdout",
     "output_type": "stream",
     "text": [
      "IDS-ML-InputNeurons=128-HiddenLayers=2-HiddenNeurons=64-Dropout=0.0=Optimizeradam\n",
      "128\n",
      "Train on 9113 samples, validate on 1013 samples\n",
      "Epoch 1/1\n",
      " - 0s - loss: 0.6277 - accuracy: 0.7879 - val_loss: 0.3159 - val_accuracy: 0.8223\n"
     ]
    },
    {
     "name": "stderr",
     "output_type": "stream",
     "text": [
      "\n",
      "\n",
      "\n",
      "\n",
      "\n",
      "\n",
      "\n",
      "\n",
      " 19%|███████████████▌                                                                 | 37/192 [01:38<06:56,  2.69s/it]\u001b[A\u001b[A\u001b[A\u001b[A\u001b[A\u001b[A\u001b[A\u001b[A"
     ]
    },
    {
     "name": "stdout",
     "output_type": "stream",
     "text": [
      "IDS-ML-InputNeurons=128-HiddenLayers=2-HiddenNeurons=64-Dropout=0.0=Optimizernadam\n",
      "128\n",
      "Train on 9113 samples, validate on 1013 samples\n",
      "Epoch 1/1\n",
      " - 0s - loss: 0.4206 - accuracy: 0.8254 - val_loss: 0.1877 - val_accuracy: 0.9112\n"
     ]
    },
    {
     "name": "stderr",
     "output_type": "stream",
     "text": [
      "\n",
      "\n",
      "\n",
      "\n",
      "\n",
      "\n",
      "\n",
      "\n",
      " 20%|████████████████                                                                 | 38/192 [01:41<07:12,  2.81s/it]\u001b[A\u001b[A\u001b[A\u001b[A\u001b[A\u001b[A\u001b[A\u001b[A"
     ]
    },
    {
     "name": "stdout",
     "output_type": "stream",
     "text": [
      "IDS-ML-InputNeurons=256-HiddenLayers=2-HiddenNeurons=64-Dropout=0.0=Optimizeradam\n",
      "256\n",
      "Train on 9113 samples, validate on 1013 samples\n",
      "Epoch 1/1\n",
      " - 0s - loss: 0.5242 - accuracy: 0.7798 - val_loss: 0.2614 - val_accuracy: 0.8973\n"
     ]
    },
    {
     "name": "stderr",
     "output_type": "stream",
     "text": [
      "\n",
      "\n",
      "\n",
      "\n",
      "\n",
      "\n",
      "\n",
      "\n",
      " 20%|████████████████▍                                                                | 39/192 [01:44<06:54,  2.71s/it]\u001b[A\u001b[A\u001b[A\u001b[A\u001b[A\u001b[A\u001b[A\u001b[A"
     ]
    },
    {
     "name": "stdout",
     "output_type": "stream",
     "text": [
      "IDS-ML-InputNeurons=256-HiddenLayers=2-HiddenNeurons=64-Dropout=0.0=Optimizernadam\n",
      "256\n",
      "Train on 9113 samples, validate on 1013 samples\n",
      "Epoch 1/1\n",
      " - 0s - loss: 0.3913 - accuracy: 0.8546 - val_loss: 0.2019 - val_accuracy: 0.9102\n"
     ]
    },
    {
     "name": "stderr",
     "output_type": "stream",
     "text": [
      "\n",
      "\n",
      "\n",
      "\n",
      "\n",
      "\n",
      "\n",
      "\n",
      " 21%|████████████████▉                                                                | 40/192 [01:47<06:58,  2.75s/it]\u001b[A\u001b[A\u001b[A\u001b[A\u001b[A\u001b[A\u001b[A\u001b[A"
     ]
    },
    {
     "name": "stdout",
     "output_type": "stream",
     "text": [
      "IDS-ML-InputNeurons=32-HiddenLayers=3-HiddenNeurons=64-Dropout=0.0=Optimizeradam\n",
      "32\n",
      "Train on 9113 samples, validate on 1013 samples\n",
      "Epoch 1/1\n",
      " - 0s - loss: 0.6704 - accuracy: 0.7617 - val_loss: 0.3352 - val_accuracy: 0.8213\n"
     ]
    },
    {
     "name": "stderr",
     "output_type": "stream",
     "text": [
      "\n",
      "\n",
      "\n",
      "\n",
      "\n",
      "\n",
      "\n",
      "\n",
      " 21%|█████████████████▎                                                               | 41/192 [01:50<07:10,  2.85s/it]\u001b[A\u001b[A\u001b[A\u001b[A\u001b[A\u001b[A\u001b[A\u001b[A"
     ]
    },
    {
     "name": "stdout",
     "output_type": "stream",
     "text": [
      "IDS-ML-InputNeurons=32-HiddenLayers=3-HiddenNeurons=64-Dropout=0.0=Optimizernadam\n",
      "32\n",
      "Train on 9113 samples, validate on 1013 samples\n",
      "Epoch 1/1\n",
      " - 0s - loss: 0.4430 - accuracy: 0.8172 - val_loss: 0.2021 - val_accuracy: 0.9112\n"
     ]
    },
    {
     "name": "stderr",
     "output_type": "stream",
     "text": [
      "\n",
      "\n",
      "\n",
      "\n",
      "\n",
      "\n",
      "\n",
      "\n",
      " 22%|█████████████████▋                                                               | 42/192 [01:53<07:28,  2.99s/it]\u001b[A\u001b[A\u001b[A\u001b[A\u001b[A\u001b[A\u001b[A\u001b[A"
     ]
    },
    {
     "name": "stdout",
     "output_type": "stream",
     "text": [
      "IDS-ML-InputNeurons=64-HiddenLayers=3-HiddenNeurons=64-Dropout=0.0=Optimizeradam\n",
      "64\n",
      "Train on 9113 samples, validate on 1013 samples\n",
      "Epoch 1/1\n",
      " - 0s - loss: 0.6242 - accuracy: 0.7414 - val_loss: 0.3074 - val_accuracy: 0.8875\n"
     ]
    },
    {
     "name": "stderr",
     "output_type": "stream",
     "text": [
      "\n",
      "\n",
      "\n",
      "\n",
      "\n",
      "\n",
      "\n",
      "\n",
      " 22%|██████████████████▏                                                              | 43/192 [01:56<07:21,  2.96s/it]\u001b[A\u001b[A\u001b[A\u001b[A\u001b[A\u001b[A\u001b[A\u001b[A"
     ]
    },
    {
     "name": "stdout",
     "output_type": "stream",
     "text": [
      "IDS-ML-InputNeurons=64-HiddenLayers=3-HiddenNeurons=64-Dropout=0.0=Optimizernadam\n",
      "64\n",
      "Train on 9113 samples, validate on 1013 samples\n",
      "Epoch 1/1\n",
      " - 0s - loss: 0.4302 - accuracy: 0.8343 - val_loss: 0.2114 - val_accuracy: 0.9042\n"
     ]
    },
    {
     "name": "stderr",
     "output_type": "stream",
     "text": [
      "\n",
      "\n",
      "\n",
      "\n",
      "\n",
      "\n",
      "\n",
      "\n",
      " 23%|██████████████████▌                                                              | 44/192 [02:00<08:02,  3.26s/it]\u001b[A\u001b[A\u001b[A\u001b[A\u001b[A\u001b[A\u001b[A\u001b[A"
     ]
    },
    {
     "name": "stdout",
     "output_type": "stream",
     "text": [
      "IDS-ML-InputNeurons=128-HiddenLayers=3-HiddenNeurons=64-Dropout=0.0=Optimizeradam\n",
      "128\n",
      "Train on 9113 samples, validate on 1013 samples\n",
      "Epoch 1/1\n",
      " - 0s - loss: 0.6156 - accuracy: 0.8116 - val_loss: 0.2712 - val_accuracy: 0.9092\n"
     ]
    },
    {
     "name": "stderr",
     "output_type": "stream",
     "text": [
      "\n",
      "\n",
      "\n",
      "\n",
      "\n",
      "\n",
      "\n",
      "\n",
      " 23%|██████████████████▉                                                              | 45/192 [02:04<08:23,  3.43s/it]\u001b[A\u001b[A\u001b[A\u001b[A\u001b[A\u001b[A\u001b[A\u001b[A"
     ]
    },
    {
     "name": "stdout",
     "output_type": "stream",
     "text": [
      "IDS-ML-InputNeurons=128-HiddenLayers=3-HiddenNeurons=64-Dropout=0.0=Optimizernadam\n",
      "128\n",
      "Train on 9113 samples, validate on 1013 samples\n",
      "Epoch 1/1\n",
      " - 0s - loss: 0.4155 - accuracy: 0.8424 - val_loss: 0.2045 - val_accuracy: 0.9062\n"
     ]
    },
    {
     "name": "stderr",
     "output_type": "stream",
     "text": [
      "\n",
      "\n",
      "\n",
      "\n",
      "\n",
      "\n",
      "\n",
      "\n",
      " 24%|███████████████████▍                                                             | 46/192 [02:07<08:13,  3.38s/it]\u001b[A\u001b[A\u001b[A\u001b[A\u001b[A\u001b[A\u001b[A\u001b[A"
     ]
    },
    {
     "name": "stdout",
     "output_type": "stream",
     "text": [
      "IDS-ML-InputNeurons=256-HiddenLayers=3-HiddenNeurons=64-Dropout=0.0=Optimizeradam\n",
      "256\n",
      "Train on 9113 samples, validate on 1013 samples\n",
      "Epoch 1/1\n",
      " - 0s - loss: 0.5184 - accuracy: 0.8262 - val_loss: 0.2157 - val_accuracy: 0.9082\n"
     ]
    },
    {
     "name": "stderr",
     "output_type": "stream",
     "text": [
      "\n",
      "\n",
      "\n",
      "\n",
      "\n",
      "\n",
      "\n",
      "\n",
      " 24%|███████████████████▊                                                             | 47/192 [02:10<07:55,  3.28s/it]\u001b[A\u001b[A\u001b[A\u001b[A\u001b[A\u001b[A\u001b[A\u001b[A"
     ]
    },
    {
     "name": "stdout",
     "output_type": "stream",
     "text": [
      "IDS-ML-InputNeurons=256-HiddenLayers=3-HiddenNeurons=64-Dropout=0.0=Optimizernadam\n",
      "256\n",
      "Train on 9113 samples, validate on 1013 samples\n",
      "Epoch 1/1\n",
      " - 0s - loss: 0.3638 - accuracy: 0.8408 - val_loss: 0.1902 - val_accuracy: 0.9102\n"
     ]
    },
    {
     "name": "stderr",
     "output_type": "stream",
     "text": [
      "\n",
      "\n",
      "\n",
      "\n",
      "\n",
      "\n",
      "\n",
      "\n",
      " 25%|████████████████████▎                                                            | 48/192 [02:13<07:49,  3.26s/it]\u001b[A\u001b[A\u001b[A\u001b[A\u001b[A\u001b[A\u001b[A\u001b[A"
     ]
    },
    {
     "name": "stdout",
     "output_type": "stream",
     "text": [
      "IDS-ML-InputNeurons=32-HiddenLayers=1-HiddenNeurons=128-Dropout=0.0=Optimizeradam\n",
      "32\n",
      "Train on 9113 samples, validate on 1013 samples\n",
      "Epoch 1/1\n",
      " - 0s - loss: 0.7668 - accuracy: 0.6661 - val_loss: 0.4977 - val_accuracy: 0.8174\n"
     ]
    },
    {
     "name": "stderr",
     "output_type": "stream",
     "text": [
      "\n",
      "\n",
      "\n",
      "\n",
      "\n",
      "\n",
      "\n",
      "\n",
      " 26%|████████████████████▋                                                            | 49/192 [02:15<06:53,  2.89s/it]\u001b[A\u001b[A\u001b[A\u001b[A\u001b[A\u001b[A\u001b[A\u001b[A"
     ]
    },
    {
     "name": "stdout",
     "output_type": "stream",
     "text": [
      "IDS-ML-InputNeurons=32-HiddenLayers=1-HiddenNeurons=128-Dropout=0.0=Optimizernadam\n",
      "32\n",
      "Train on 9113 samples, validate on 1013 samples\n",
      "Epoch 1/1\n",
      " - 0s - loss: 0.5514 - accuracy: 0.7868 - val_loss: 0.2727 - val_accuracy: 0.8766\n"
     ]
    },
    {
     "name": "stderr",
     "output_type": "stream",
     "text": [
      "\n",
      "\n",
      "\n",
      "\n",
      "\n",
      "\n",
      "\n",
      "\n",
      " 26%|█████████████████████                                                            | 50/192 [02:17<06:18,  2.67s/it]\u001b[A\u001b[A\u001b[A\u001b[A\u001b[A\u001b[A\u001b[A\u001b[A"
     ]
    },
    {
     "name": "stdout",
     "output_type": "stream",
     "text": [
      "IDS-ML-InputNeurons=64-HiddenLayers=1-HiddenNeurons=128-Dropout=0.0=Optimizeradam\n",
      "64\n",
      "Train on 9113 samples, validate on 1013 samples\n",
      "Epoch 1/1\n",
      " - 0s - loss: 0.6783 - accuracy: 0.7755 - val_loss: 0.3813 - val_accuracy: 0.8164\n"
     ]
    },
    {
     "name": "stderr",
     "output_type": "stream",
     "text": [
      "\n",
      "\n",
      "\n",
      "\n",
      "\n",
      "\n",
      "\n",
      "\n",
      " 27%|█████████████████████▌                                                           | 51/192 [02:20<05:56,  2.53s/it]\u001b[A\u001b[A\u001b[A\u001b[A\u001b[A\u001b[A\u001b[A\u001b[A"
     ]
    },
    {
     "name": "stdout",
     "output_type": "stream",
     "text": [
      "IDS-ML-InputNeurons=64-HiddenLayers=1-HiddenNeurons=128-Dropout=0.0=Optimizernadam\n",
      "64\n",
      "Train on 9113 samples, validate on 1013 samples\n",
      "Epoch 1/1\n",
      " - 0s - loss: 0.5029 - accuracy: 0.8163 - val_loss: 0.2443 - val_accuracy: 0.9092\n"
     ]
    },
    {
     "name": "stderr",
     "output_type": "stream",
     "text": [
      "\n",
      "\n",
      "\n",
      "\n",
      "\n",
      "\n",
      "\n",
      "\n",
      " 27%|█████████████████████▉                                                           | 52/192 [02:22<05:39,  2.43s/it]\u001b[A\u001b[A\u001b[A\u001b[A\u001b[A\u001b[A\u001b[A\u001b[A"
     ]
    },
    {
     "name": "stdout",
     "output_type": "stream",
     "text": [
      "IDS-ML-InputNeurons=128-HiddenLayers=1-HiddenNeurons=128-Dropout=0.0=Optimizeradam\n",
      "128\n",
      "Train on 9113 samples, validate on 1013 samples\n",
      "Epoch 1/1\n",
      " - 0s - loss: 0.6318 - accuracy: 0.7609 - val_loss: 0.3484 - val_accuracy: 0.8203\n"
     ]
    },
    {
     "name": "stderr",
     "output_type": "stream",
     "text": [
      "\n",
      "\n",
      "\n",
      "\n",
      "\n",
      "\n",
      "\n",
      "\n",
      " 28%|██████████████████████▎                                                          | 53/192 [02:24<05:28,  2.36s/it]\u001b[A\u001b[A\u001b[A\u001b[A\u001b[A\u001b[A\u001b[A\u001b[A"
     ]
    },
    {
     "name": "stdout",
     "output_type": "stream",
     "text": [
      "IDS-ML-InputNeurons=128-HiddenLayers=1-HiddenNeurons=128-Dropout=0.0=Optimizernadam\n",
      "128\n",
      "Train on 9113 samples, validate on 1013 samples\n",
      "Epoch 1/1\n",
      " - 0s - loss: 0.4423 - accuracy: 0.8452 - val_loss: 0.2101 - val_accuracy: 0.9092\n"
     ]
    },
    {
     "name": "stderr",
     "output_type": "stream",
     "text": [
      "\n",
      "\n",
      "\n",
      "\n",
      "\n",
      "\n",
      "\n",
      "\n",
      " 28%|██████████████████████▊                                                          | 54/192 [02:26<05:16,  2.30s/it]\u001b[A\u001b[A\u001b[A\u001b[A\u001b[A\u001b[A\u001b[A\u001b[A"
     ]
    },
    {
     "name": "stdout",
     "output_type": "stream",
     "text": [
      "IDS-ML-InputNeurons=256-HiddenLayers=1-HiddenNeurons=128-Dropout=0.0=Optimizeradam\n",
      "256\n",
      "Train on 9113 samples, validate on 1013 samples\n",
      "Epoch 1/1\n",
      " - 0s - loss: 0.5356 - accuracy: 0.8032 - val_loss: 0.2777 - val_accuracy: 0.9013\n"
     ]
    },
    {
     "name": "stderr",
     "output_type": "stream",
     "text": [
      "\n",
      "\n",
      "\n",
      "\n",
      "\n",
      "\n",
      "\n",
      "\n",
      " 29%|███████████████████████▏                                                         | 55/192 [02:28<05:12,  2.28s/it]\u001b[A\u001b[A\u001b[A\u001b[A\u001b[A\u001b[A\u001b[A\u001b[A"
     ]
    },
    {
     "name": "stdout",
     "output_type": "stream",
     "text": [
      "IDS-ML-InputNeurons=256-HiddenLayers=1-HiddenNeurons=128-Dropout=0.0=Optimizernadam\n",
      "256\n",
      "Train on 9113 samples, validate on 1013 samples\n",
      "Epoch 1/1\n",
      " - 0s - loss: 0.3843 - accuracy: 0.8580 - val_loss: 0.2396 - val_accuracy: 0.8361\n"
     ]
    },
    {
     "name": "stderr",
     "output_type": "stream",
     "text": [
      "\n",
      "\n",
      "\n",
      "\n",
      "\n",
      "\n",
      "\n",
      "\n",
      " 29%|███████████████████████▋                                                         | 56/192 [02:31<05:12,  2.29s/it]\u001b[A\u001b[A\u001b[A\u001b[A\u001b[A\u001b[A\u001b[A\u001b[A"
     ]
    },
    {
     "name": "stdout",
     "output_type": "stream",
     "text": [
      "IDS-ML-InputNeurons=32-HiddenLayers=2-HiddenNeurons=128-Dropout=0.0=Optimizeradam\n",
      "32\n",
      "Train on 9113 samples, validate on 1013 samples\n",
      "Epoch 1/1\n",
      " - 0s - loss: 0.6445 - accuracy: 0.7444 - val_loss: 0.3503 - val_accuracy: 0.8213\n"
     ]
    },
    {
     "name": "stderr",
     "output_type": "stream",
     "text": [
      "\n",
      "\n",
      "\n",
      "\n",
      "\n",
      "\n",
      "\n",
      "\n",
      " 30%|████████████████████████                                                         | 57/192 [02:33<05:16,  2.34s/it]\u001b[A\u001b[A\u001b[A\u001b[A\u001b[A\u001b[A\u001b[A\u001b[A"
     ]
    },
    {
     "name": "stdout",
     "output_type": "stream",
     "text": [
      "IDS-ML-InputNeurons=32-HiddenLayers=2-HiddenNeurons=128-Dropout=0.0=Optimizernadam\n",
      "32\n",
      "Train on 9113 samples, validate on 1013 samples\n",
      "Epoch 1/1\n",
      " - 0s - loss: 0.4372 - accuracy: 0.8160 - val_loss: 0.1860 - val_accuracy: 0.9102\n"
     ]
    },
    {
     "name": "stderr",
     "output_type": "stream",
     "text": [
      "\n",
      "\n",
      "\n",
      "\n",
      "\n",
      "\n",
      "\n",
      "\n",
      " 30%|████████████████████████▍                                                        | 58/192 [02:36<05:33,  2.49s/it]\u001b[A\u001b[A\u001b[A\u001b[A\u001b[A\u001b[A\u001b[A\u001b[A"
     ]
    },
    {
     "name": "stdout",
     "output_type": "stream",
     "text": [
      "IDS-ML-InputNeurons=64-HiddenLayers=2-HiddenNeurons=128-Dropout=0.0=Optimizeradam\n",
      "64\n",
      "Train on 9113 samples, validate on 1013 samples\n",
      "Epoch 1/1\n",
      " - 0s - loss: 0.5620 - accuracy: 0.7707 - val_loss: 0.2733 - val_accuracy: 0.8973\n"
     ]
    },
    {
     "name": "stderr",
     "output_type": "stream",
     "text": [
      "\n",
      "\n",
      "\n",
      "\n",
      "\n",
      "\n",
      "\n",
      "\n",
      " 31%|████████████████████████▉                                                        | 59/192 [02:39<05:34,  2.51s/it]\u001b[A\u001b[A\u001b[A\u001b[A\u001b[A\u001b[A\u001b[A\u001b[A"
     ]
    },
    {
     "name": "stdout",
     "output_type": "stream",
     "text": [
      "IDS-ML-InputNeurons=64-HiddenLayers=2-HiddenNeurons=128-Dropout=0.0=Optimizernadam\n",
      "64\n",
      "Train on 9113 samples, validate on 1013 samples\n",
      "Epoch 1/1\n",
      " - 0s - loss: 0.3928 - accuracy: 0.8398 - val_loss: 0.2005 - val_accuracy: 0.9102\n"
     ]
    },
    {
     "name": "stderr",
     "output_type": "stream",
     "text": [
      "\n",
      "\n",
      "\n",
      "\n",
      "\n",
      "\n",
      "\n",
      "\n",
      " 31%|█████████████████████████▎                                                       | 60/192 [02:41<05:45,  2.62s/it]\u001b[A\u001b[A\u001b[A\u001b[A\u001b[A\u001b[A\u001b[A\u001b[A"
     ]
    },
    {
     "name": "stdout",
     "output_type": "stream",
     "text": [
      "IDS-ML-InputNeurons=128-HiddenLayers=2-HiddenNeurons=128-Dropout=0.0=Optimizeradam\n",
      "128\n",
      "Train on 9113 samples, validate on 1013 samples\n",
      "Epoch 1/1\n",
      " - 0s - loss: 0.5130 - accuracy: 0.7994 - val_loss: 0.2245 - val_accuracy: 0.9102\n"
     ]
    },
    {
     "name": "stderr",
     "output_type": "stream",
     "text": [
      "\n",
      "\n",
      "\n",
      "\n",
      "\n",
      "\n",
      "\n",
      "\n",
      " 32%|█████████████████████████▋                                                       | 61/192 [02:44<05:40,  2.60s/it]\u001b[A\u001b[A\u001b[A\u001b[A\u001b[A\u001b[A\u001b[A\u001b[A"
     ]
    },
    {
     "name": "stdout",
     "output_type": "stream",
     "text": [
      "IDS-ML-InputNeurons=128-HiddenLayers=2-HiddenNeurons=128-Dropout=0.0=Optimizernadam\n",
      "128\n",
      "Train on 9113 samples, validate on 1013 samples\n",
      "Epoch 1/1\n",
      " - 0s - loss: 0.3482 - accuracy: 0.8586 - val_loss: 0.2627 - val_accuracy: 0.8292\n"
     ]
    },
    {
     "name": "stderr",
     "output_type": "stream",
     "text": [
      "\n",
      "\n",
      "\n",
      "\n",
      "\n",
      "\n",
      "\n",
      "\n",
      " 32%|██████████████████████████▏                                                      | 62/192 [02:47<05:45,  2.66s/it]\u001b[A\u001b[A\u001b[A\u001b[A\u001b[A\u001b[A\u001b[A\u001b[A"
     ]
    },
    {
     "name": "stdout",
     "output_type": "stream",
     "text": [
      "IDS-ML-InputNeurons=256-HiddenLayers=2-HiddenNeurons=128-Dropout=0.0=Optimizeradam\n",
      "256\n",
      "Train on 9113 samples, validate on 1013 samples\n",
      "Epoch 1/1\n",
      " - 1s - loss: 0.4894 - accuracy: 0.8058 - val_loss: 0.2077 - val_accuracy: 0.9092\n"
     ]
    },
    {
     "name": "stderr",
     "output_type": "stream",
     "text": [
      "\n",
      "\n",
      "\n",
      "\n",
      "\n",
      "\n",
      "\n",
      "\n",
      " 33%|██████████████████████████▌                                                      | 63/192 [02:49<05:43,  2.67s/it]\u001b[A\u001b[A\u001b[A\u001b[A\u001b[A\u001b[A\u001b[A\u001b[A"
     ]
    },
    {
     "name": "stdout",
     "output_type": "stream",
     "text": [
      "IDS-ML-InputNeurons=256-HiddenLayers=2-HiddenNeurons=128-Dropout=0.0=Optimizernadam\n",
      "256\n",
      "Train on 9113 samples, validate on 1013 samples\n",
      "Epoch 1/1\n",
      " - 0s - loss: 0.3361 - accuracy: 0.8554 - val_loss: 0.1786 - val_accuracy: 0.9112\n"
     ]
    },
    {
     "name": "stderr",
     "output_type": "stream",
     "text": [
      "\n",
      "\n",
      "\n",
      "\n",
      "\n",
      "\n",
      "\n",
      "\n",
      " 33%|███████████████████████████                                                      | 64/192 [02:52<05:52,  2.75s/it]\u001b[A\u001b[A\u001b[A\u001b[A\u001b[A\u001b[A\u001b[A\u001b[A"
     ]
    },
    {
     "name": "stdout",
     "output_type": "stream",
     "text": [
      "IDS-ML-InputNeurons=32-HiddenLayers=3-HiddenNeurons=128-Dropout=0.0=Optimizeradam\n",
      "32\n",
      "Train on 9113 samples, validate on 1013 samples\n",
      "Epoch 1/1\n",
      " - 0s - loss: 0.5829 - accuracy: 0.7495 - val_loss: 0.2687 - val_accuracy: 0.9072\n"
     ]
    },
    {
     "name": "stderr",
     "output_type": "stream",
     "text": [
      "\n",
      "\n",
      "\n",
      "\n",
      "\n",
      "\n",
      "\n",
      "\n",
      " 34%|███████████████████████████▍                                                     | 65/192 [02:56<06:05,  2.88s/it]\u001b[A\u001b[A\u001b[A\u001b[A\u001b[A\u001b[A\u001b[A\u001b[A"
     ]
    },
    {
     "name": "stdout",
     "output_type": "stream",
     "text": [
      "IDS-ML-InputNeurons=32-HiddenLayers=3-HiddenNeurons=128-Dropout=0.0=Optimizernadam\n",
      "32\n",
      "Train on 9113 samples, validate on 1013 samples\n",
      "Epoch 1/1\n",
      " - 0s - loss: 0.3713 - accuracy: 0.8436 - val_loss: 0.1914 - val_accuracy: 0.9112\n"
     ]
    },
    {
     "name": "stderr",
     "output_type": "stream",
     "text": [
      "\n",
      "\n",
      "\n",
      "\n",
      "\n",
      "\n",
      "\n",
      "\n",
      " 34%|███████████████████████████▊                                                     | 66/192 [02:59<06:16,  2.99s/it]\u001b[A\u001b[A\u001b[A\u001b[A\u001b[A\u001b[A\u001b[A\u001b[A"
     ]
    },
    {
     "name": "stdout",
     "output_type": "stream",
     "text": [
      "IDS-ML-InputNeurons=64-HiddenLayers=3-HiddenNeurons=128-Dropout=0.0=Optimizeradam\n",
      "64\n",
      "Train on 9113 samples, validate on 1013 samples\n",
      "Epoch 1/1\n",
      " - 0s - loss: 0.5039 - accuracy: 0.7865 - val_loss: 0.2031 - val_accuracy: 0.9102\n"
     ]
    },
    {
     "name": "stderr",
     "output_type": "stream",
     "text": [
      "\n",
      "\n",
      "\n",
      "\n",
      "\n",
      "\n",
      "\n",
      "\n",
      " 35%|████████████████████████████▎                                                    | 67/192 [03:02<06:14,  3.00s/it]\u001b[A\u001b[A\u001b[A\u001b[A\u001b[A\u001b[A\u001b[A\u001b[A"
     ]
    },
    {
     "name": "stdout",
     "output_type": "stream",
     "text": [
      "IDS-ML-InputNeurons=64-HiddenLayers=3-HiddenNeurons=128-Dropout=0.0=Optimizernadam\n",
      "64\n",
      "Train on 9113 samples, validate on 1013 samples\n",
      "Epoch 1/1\n",
      " - 0s - loss: 0.3801 - accuracy: 0.8407 - val_loss: 0.2080 - val_accuracy: 0.9042\n"
     ]
    },
    {
     "name": "stderr",
     "output_type": "stream",
     "text": [
      "\n",
      "\n",
      "\n",
      "\n",
      "\n",
      "\n",
      "\n",
      "\n",
      " 35%|████████████████████████████▋                                                    | 68/192 [03:05<06:20,  3.07s/it]\u001b[A\u001b[A\u001b[A\u001b[A\u001b[A\u001b[A\u001b[A\u001b[A"
     ]
    },
    {
     "name": "stdout",
     "output_type": "stream",
     "text": [
      "IDS-ML-InputNeurons=128-HiddenLayers=3-HiddenNeurons=128-Dropout=0.0=Optimizeradam\n",
      "128\n",
      "Train on 9113 samples, validate on 1013 samples\n",
      "Epoch 1/1\n",
      " - 0s - loss: 0.4845 - accuracy: 0.8051 - val_loss: 0.2111 - val_accuracy: 0.9102\n"
     ]
    },
    {
     "name": "stderr",
     "output_type": "stream",
     "text": [
      "\n",
      "\n",
      "\n",
      "\n",
      "\n",
      "\n",
      "\n",
      "\n",
      " 36%|█████████████████████████████                                                    | 69/192 [03:08<06:21,  3.10s/it]\u001b[A\u001b[A\u001b[A\u001b[A\u001b[A\u001b[A\u001b[A\u001b[A"
     ]
    },
    {
     "name": "stdout",
     "output_type": "stream",
     "text": [
      "IDS-ML-InputNeurons=128-HiddenLayers=3-HiddenNeurons=128-Dropout=0.0=Optimizernadam\n",
      "128\n",
      "Train on 9113 samples, validate on 1013 samples\n",
      "Epoch 1/1\n",
      " - 0s - loss: 0.3441 - accuracy: 0.8475 - val_loss: 0.9292 - val_accuracy: 0.8233\n"
     ]
    },
    {
     "name": "stderr",
     "output_type": "stream",
     "text": [
      "\n",
      "\n",
      "\n",
      "\n",
      "\n",
      "\n",
      "\n",
      "\n",
      " 36%|█████████████████████████████▌                                                   | 70/192 [03:12<06:33,  3.23s/it]\u001b[A\u001b[A\u001b[A\u001b[A\u001b[A\u001b[A\u001b[A\u001b[A"
     ]
    },
    {
     "name": "stdout",
     "output_type": "stream",
     "text": [
      "IDS-ML-InputNeurons=256-HiddenLayers=3-HiddenNeurons=128-Dropout=0.0=Optimizeradam\n",
      "256\n",
      "Train on 9113 samples, validate on 1013 samples\n",
      "Epoch 1/1\n",
      " - 0s - loss: 0.4315 - accuracy: 0.8129 - val_loss: 0.1775 - val_accuracy: 0.9112\n"
     ]
    },
    {
     "name": "stderr",
     "output_type": "stream",
     "text": [
      "\n",
      "\n",
      "\n",
      "\n",
      "\n",
      "\n",
      "\n",
      "\n",
      " 37%|█████████████████████████████▉                                                   | 71/192 [03:15<06:22,  3.16s/it]\u001b[A\u001b[A\u001b[A\u001b[A\u001b[A\u001b[A\u001b[A\u001b[A"
     ]
    },
    {
     "name": "stdout",
     "output_type": "stream",
     "text": [
      "IDS-ML-InputNeurons=256-HiddenLayers=3-HiddenNeurons=128-Dropout=0.0=Optimizernadam\n",
      "256\n",
      "Train on 9113 samples, validate on 1013 samples\n",
      "Epoch 1/1\n",
      " - 0s - loss: 0.3296 - accuracy: 0.8552 - val_loss: 0.1875 - val_accuracy: 0.9102\n"
     ]
    },
    {
     "name": "stderr",
     "output_type": "stream",
     "text": [
      "\n",
      "\n",
      "\n",
      "\n",
      "\n",
      "\n",
      "\n",
      "\n",
      " 38%|██████████████████████████████▍                                                  | 72/192 [03:18<06:25,  3.21s/it]\u001b[A\u001b[A\u001b[A\u001b[A\u001b[A\u001b[A\u001b[A\u001b[A"
     ]
    },
    {
     "name": "stdout",
     "output_type": "stream",
     "text": [
      "IDS-ML-InputNeurons=32-HiddenLayers=1-HiddenNeurons=256-Dropout=0.0=Optimizeradam\n",
      "32\n",
      "Train on 9113 samples, validate on 1013 samples\n",
      "Epoch 1/1\n",
      " - 0s - loss: 0.6656 - accuracy: 0.7526 - val_loss: 0.3958 - val_accuracy: 0.8174\n"
     ]
    },
    {
     "name": "stderr",
     "output_type": "stream",
     "text": [
      "\n",
      "\n",
      "\n",
      "\n",
      "\n",
      "\n",
      "\n",
      "\n",
      " 38%|██████████████████████████████▊                                                  | 73/192 [03:20<05:43,  2.88s/it]\u001b[A\u001b[A\u001b[A\u001b[A\u001b[A\u001b[A\u001b[A\u001b[A"
     ]
    },
    {
     "name": "stdout",
     "output_type": "stream",
     "text": [
      "IDS-ML-InputNeurons=32-HiddenLayers=1-HiddenNeurons=256-Dropout=0.0=Optimizernadam\n",
      "32\n",
      "Train on 9113 samples, validate on 1013 samples\n",
      "Epoch 1/1\n",
      " - 0s - loss: 0.4874 - accuracy: 0.8053 - val_loss: 0.2280 - val_accuracy: 0.9102\n"
     ]
    },
    {
     "name": "stderr",
     "output_type": "stream",
     "text": [
      "\n",
      "\n",
      "\n",
      "\n",
      "\n",
      "\n",
      "\n",
      "\n",
      " 39%|███████████████████████████████▏                                                 | 74/192 [03:23<05:20,  2.72s/it]\u001b[A\u001b[A\u001b[A\u001b[A\u001b[A\u001b[A\u001b[A\u001b[A"
     ]
    },
    {
     "name": "stdout",
     "output_type": "stream",
     "text": [
      "IDS-ML-InputNeurons=64-HiddenLayers=1-HiddenNeurons=256-Dropout=0.0=Optimizeradam\n",
      "64\n",
      "Train on 9113 samples, validate on 1013 samples\n",
      "Epoch 1/1\n",
      " - 1s - loss: 0.6127 - accuracy: 0.8006 - val_loss: 0.3523 - val_accuracy: 0.8203\n"
     ]
    },
    {
     "name": "stderr",
     "output_type": "stream",
     "text": [
      "\n",
      "\n",
      "\n",
      "\n",
      "\n",
      "\n",
      "\n",
      "\n",
      " 39%|███████████████████████████████▋                                                 | 75/192 [03:26<05:40,  2.91s/it]\u001b[A\u001b[A\u001b[A\u001b[A\u001b[A\u001b[A\u001b[A\u001b[A"
     ]
    },
    {
     "name": "stdout",
     "output_type": "stream",
     "text": [
      "IDS-ML-InputNeurons=64-HiddenLayers=1-HiddenNeurons=256-Dropout=0.0=Optimizernadam\n",
      "64\n",
      "Train on 9113 samples, validate on 1013 samples\n",
      "Epoch 1/1\n",
      " - 1s - loss: 0.4564 - accuracy: 0.8239 - val_loss: 0.2229 - val_accuracy: 0.9092\n"
     ]
    },
    {
     "name": "stderr",
     "output_type": "stream",
     "text": [
      "\n",
      "\n",
      "\n",
      "\n",
      "\n",
      "\n",
      "\n",
      "\n",
      " 40%|████████████████████████████████                                                 | 76/192 [03:32<07:18,  3.78s/it]\u001b[A\u001b[A\u001b[A\u001b[A\u001b[A\u001b[A\u001b[A\u001b[A"
     ]
    },
    {
     "name": "stdout",
     "output_type": "stream",
     "text": [
      "IDS-ML-InputNeurons=128-HiddenLayers=1-HiddenNeurons=256-Dropout=0.0=Optimizeradam\n",
      "128\n",
      "Train on 9113 samples, validate on 1013 samples\n",
      "Epoch 1/1\n",
      " - 0s - loss: 0.5261 - accuracy: 0.7995 - val_loss: 0.2737 - val_accuracy: 0.8963\n"
     ]
    },
    {
     "name": "stderr",
     "output_type": "stream",
     "text": [
      "\n",
      "\n",
      "\n",
      "\n",
      "\n",
      "\n",
      "\n",
      "\n",
      " 40%|████████████████████████████████▍                                                | 77/192 [03:35<06:41,  3.49s/it]\u001b[A\u001b[A\u001b[A\u001b[A\u001b[A\u001b[A\u001b[A\u001b[A"
     ]
    },
    {
     "name": "stdout",
     "output_type": "stream",
     "text": [
      "IDS-ML-InputNeurons=128-HiddenLayers=1-HiddenNeurons=256-Dropout=0.0=Optimizernadam\n",
      "128\n",
      "Train on 9113 samples, validate on 1013 samples\n",
      "Epoch 1/1\n",
      " - 0s - loss: 0.3847 - accuracy: 0.8599 - val_loss: 0.1918 - val_accuracy: 0.9102\n"
     ]
    },
    {
     "name": "stderr",
     "output_type": "stream",
     "text": [
      "\n",
      "\n",
      "\n",
      "\n",
      "\n",
      "\n",
      "\n",
      "\n",
      " 41%|████████████████████████████████▉                                                | 78/192 [03:37<05:53,  3.10s/it]\u001b[A\u001b[A\u001b[A\u001b[A\u001b[A\u001b[A\u001b[A\u001b[A"
     ]
    },
    {
     "name": "stdout",
     "output_type": "stream",
     "text": [
      "IDS-ML-InputNeurons=256-HiddenLayers=1-HiddenNeurons=256-Dropout=0.0=Optimizeradam\n",
      "256\n",
      "Train on 9113 samples, validate on 1013 samples\n",
      "Epoch 1/1\n",
      " - 1s - loss: 0.4792 - accuracy: 0.8320 - val_loss: 0.2476 - val_accuracy: 0.9072\n"
     ]
    },
    {
     "name": "stderr",
     "output_type": "stream",
     "text": [
      "\n",
      "\n",
      "\n",
      "\n",
      "\n",
      "\n",
      "\n",
      "\n",
      " 41%|█████████████████████████████████▎                                               | 79/192 [03:39<05:21,  2.85s/it]\u001b[A\u001b[A\u001b[A\u001b[A\u001b[A\u001b[A\u001b[A\u001b[A"
     ]
    },
    {
     "name": "stdout",
     "output_type": "stream",
     "text": [
      "IDS-ML-InputNeurons=256-HiddenLayers=1-HiddenNeurons=256-Dropout=0.0=Optimizernadam\n",
      "256\n",
      "Train on 9113 samples, validate on 1013 samples\n",
      "Epoch 1/1\n",
      " - 0s - loss: 0.3519 - accuracy: 0.8616 - val_loss: 0.2051 - val_accuracy: 0.9092\n"
     ]
    },
    {
     "name": "stderr",
     "output_type": "stream",
     "text": [
      "\n",
      "\n",
      "\n",
      "\n",
      "\n",
      "\n",
      "\n",
      "\n",
      " 42%|█████████████████████████████████▊                                               | 80/192 [03:41<04:57,  2.65s/it]\u001b[A\u001b[A\u001b[A\u001b[A\u001b[A\u001b[A\u001b[A\u001b[A"
     ]
    },
    {
     "name": "stdout",
     "output_type": "stream",
     "text": [
      "IDS-ML-InputNeurons=32-HiddenLayers=2-HiddenNeurons=256-Dropout=0.0=Optimizeradam\n",
      "32\n",
      "Train on 9113 samples, validate on 1013 samples\n",
      "Epoch 1/1\n",
      " - 0s - loss: 0.5043 - accuracy: 0.7888 - val_loss: 0.2555 - val_accuracy: 0.9092\n"
     ]
    },
    {
     "name": "stderr",
     "output_type": "stream",
     "text": [
      "\n",
      "\n",
      "\n",
      "\n",
      "\n",
      "\n",
      "\n",
      "\n",
      " 42%|██████████████████████████████████▏                                              | 81/192 [03:43<04:41,  2.53s/it]\u001b[A\u001b[A\u001b[A\u001b[A\u001b[A\u001b[A\u001b[A\u001b[A"
     ]
    },
    {
     "name": "stdout",
     "output_type": "stream",
     "text": [
      "IDS-ML-InputNeurons=32-HiddenLayers=2-HiddenNeurons=256-Dropout=0.0=Optimizernadam\n",
      "32\n",
      "Train on 9113 samples, validate on 1013 samples\n",
      "Epoch 1/1\n",
      " - 0s - loss: 0.3579 - accuracy: 0.8496 - val_loss: 0.1989 - val_accuracy: 0.8539\n"
     ]
    },
    {
     "name": "stderr",
     "output_type": "stream",
     "text": [
      "\n",
      "\n",
      "\n",
      "\n",
      "\n",
      "\n",
      "\n",
      "\n",
      " 43%|██████████████████████████████████▌                                              | 82/192 [03:46<04:45,  2.59s/it]\u001b[A\u001b[A\u001b[A\u001b[A\u001b[A\u001b[A\u001b[A\u001b[A"
     ]
    },
    {
     "name": "stdout",
     "output_type": "stream",
     "text": [
      "IDS-ML-InputNeurons=64-HiddenLayers=2-HiddenNeurons=256-Dropout=0.0=Optimizeradam\n",
      "64\n",
      "Train on 9113 samples, validate on 1013 samples\n",
      "Epoch 1/1\n",
      " - 0s - loss: 0.4415 - accuracy: 0.8176 - val_loss: 0.2006 - val_accuracy: 0.9112\n"
     ]
    },
    {
     "name": "stderr",
     "output_type": "stream",
     "text": [
      "\n",
      "\n",
      "\n",
      "\n",
      "\n",
      "\n",
      "\n",
      "\n",
      " 43%|███████████████████████████████████                                              | 83/192 [03:48<04:27,  2.45s/it]\u001b[A\u001b[A\u001b[A\u001b[A\u001b[A\u001b[A\u001b[A\u001b[A"
     ]
    },
    {
     "name": "stdout",
     "output_type": "stream",
     "text": [
      "IDS-ML-InputNeurons=64-HiddenLayers=2-HiddenNeurons=256-Dropout=0.0=Optimizernadam\n",
      "64\n",
      "Train on 9113 samples, validate on 1013 samples\n",
      "Epoch 1/1\n",
      " - 0s - loss: 0.3371 - accuracy: 0.8562 - val_loss: 0.2311 - val_accuracy: 0.9112\n"
     ]
    },
    {
     "name": "stderr",
     "output_type": "stream",
     "text": [
      "\n",
      "\n",
      "\n",
      "\n",
      "\n",
      "\n",
      "\n",
      "\n",
      " 44%|███████████████████████████████████▍                                             | 84/192 [03:51<04:30,  2.50s/it]\u001b[A\u001b[A\u001b[A\u001b[A\u001b[A\u001b[A\u001b[A\u001b[A"
     ]
    },
    {
     "name": "stdout",
     "output_type": "stream",
     "text": [
      "IDS-ML-InputNeurons=128-HiddenLayers=2-HiddenNeurons=256-Dropout=0.0=Optimizeradam\n",
      "128\n",
      "Train on 9113 samples, validate on 1013 samples\n",
      "Epoch 1/1\n",
      " - 0s - loss: 0.4266 - accuracy: 0.8176 - val_loss: 0.1905 - val_accuracy: 0.9102\n"
     ]
    },
    {
     "name": "stderr",
     "output_type": "stream",
     "text": [
      "\n",
      "\n",
      "\n",
      "\n",
      "\n",
      "\n",
      "\n",
      "\n",
      " 44%|███████████████████████████████████▊                                             | 85/192 [03:53<04:24,  2.47s/it]\u001b[A\u001b[A\u001b[A\u001b[A\u001b[A\u001b[A\u001b[A\u001b[A"
     ]
    },
    {
     "name": "stdout",
     "output_type": "stream",
     "text": [
      "IDS-ML-InputNeurons=128-HiddenLayers=2-HiddenNeurons=256-Dropout=0.0=Optimizernadam\n",
      "128\n",
      "Train on 9113 samples, validate on 1013 samples\n",
      "Epoch 1/1\n",
      " - 0s - loss: 0.3216 - accuracy: 0.8610 - val_loss: 0.9605 - val_accuracy: 0.6871\n"
     ]
    },
    {
     "name": "stderr",
     "output_type": "stream",
     "text": [
      "\n",
      "\n",
      "\n",
      "\n",
      "\n",
      "\n",
      "\n",
      "\n",
      " 45%|████████████████████████████████████▎                                            | 86/192 [03:56<04:22,  2.48s/it]\u001b[A\u001b[A\u001b[A\u001b[A\u001b[A\u001b[A\u001b[A\u001b[A"
     ]
    },
    {
     "name": "stdout",
     "output_type": "stream",
     "text": [
      "IDS-ML-InputNeurons=256-HiddenLayers=2-HiddenNeurons=256-Dropout=0.0=Optimizeradam\n",
      "256\n",
      "Train on 9113 samples, validate on 1013 samples\n",
      "Epoch 1/1\n",
      " - 0s - loss: 0.4081 - accuracy: 0.8473 - val_loss: 0.1910 - val_accuracy: 0.9102\n"
     ]
    },
    {
     "name": "stderr",
     "output_type": "stream",
     "text": [
      "\n",
      "\n",
      "\n",
      "\n",
      "\n",
      "\n",
      "\n",
      "\n",
      " 45%|████████████████████████████████████▋                                            | 87/192 [03:58<04:14,  2.42s/it]\u001b[A\u001b[A\u001b[A\u001b[A\u001b[A\u001b[A\u001b[A\u001b[A"
     ]
    },
    {
     "name": "stdout",
     "output_type": "stream",
     "text": [
      "IDS-ML-InputNeurons=256-HiddenLayers=2-HiddenNeurons=256-Dropout=0.0=Optimizernadam\n",
      "256\n",
      "Train on 9113 samples, validate on 1013 samples\n",
      "Epoch 1/1\n",
      " - 1s - loss: 0.3158 - accuracy: 0.8678 - val_loss: 0.1904 - val_accuracy: 0.9970\n"
     ]
    },
    {
     "name": "stderr",
     "output_type": "stream",
     "text": [
      "\n",
      "\n",
      "\n",
      "\n",
      "\n",
      "\n",
      "\n",
      "\n",
      " 46%|█████████████████████████████████████▏                                           | 88/192 [04:01<04:20,  2.50s/it]\u001b[A\u001b[A\u001b[A\u001b[A\u001b[A\u001b[A\u001b[A\u001b[A"
     ]
    },
    {
     "name": "stdout",
     "output_type": "stream",
     "text": [
      "IDS-ML-InputNeurons=32-HiddenLayers=3-HiddenNeurons=256-Dropout=0.0=Optimizeradam\n",
      "32\n",
      "Train on 9113 samples, validate on 1013 samples\n",
      "Epoch 1/1\n",
      " - 0s - loss: 0.4476 - accuracy: 0.8023 - val_loss: 0.2090 - val_accuracy: 0.9082\n"
     ]
    },
    {
     "name": "stderr",
     "output_type": "stream",
     "text": [
      "\n",
      "\n",
      "\n",
      "\n",
      "\n",
      "\n",
      "\n",
      "\n",
      " 46%|█████████████████████████████████████▌                                           | 89/192 [04:03<04:20,  2.53s/it]\u001b[A\u001b[A\u001b[A\u001b[A\u001b[A\u001b[A\u001b[A\u001b[A"
     ]
    },
    {
     "name": "stdout",
     "output_type": "stream",
     "text": [
      "IDS-ML-InputNeurons=32-HiddenLayers=3-HiddenNeurons=256-Dropout=0.0=Optimizernadam\n",
      "32\n",
      "Train on 9113 samples, validate on 1013 samples\n",
      "Epoch 1/1\n",
      " - 1s - loss: 0.3393 - accuracy: 0.8482 - val_loss: 0.1924 - val_accuracy: 0.9121\n"
     ]
    },
    {
     "name": "stderr",
     "output_type": "stream",
     "text": [
      "\n",
      "\n",
      "\n",
      "\n",
      "\n",
      "\n",
      "\n",
      "\n",
      " 47%|█████████████████████████████████████▉                                           | 90/192 [04:06<04:26,  2.61s/it]\u001b[A\u001b[A\u001b[A\u001b[A\u001b[A\u001b[A\u001b[A\u001b[A"
     ]
    },
    {
     "name": "stdout",
     "output_type": "stream",
     "text": [
      "IDS-ML-InputNeurons=64-HiddenLayers=3-HiddenNeurons=256-Dropout=0.0=Optimizeradam\n",
      "64\n",
      "Train on 9113 samples, validate on 1013 samples\n",
      "Epoch 1/1\n",
      " - 0s - loss: 0.4103 - accuracy: 0.8294 - val_loss: 0.1807 - val_accuracy: 0.9112\n"
     ]
    },
    {
     "name": "stderr",
     "output_type": "stream",
     "text": [
      "\n",
      "\n",
      "\n",
      "\n",
      "\n",
      "\n",
      "\n",
      "\n",
      " 47%|██████████████████████████████████████▍                                          | 91/192 [04:09<04:26,  2.64s/it]\u001b[A\u001b[A\u001b[A\u001b[A\u001b[A\u001b[A\u001b[A\u001b[A"
     ]
    },
    {
     "name": "stdout",
     "output_type": "stream",
     "text": [
      "IDS-ML-InputNeurons=64-HiddenLayers=3-HiddenNeurons=256-Dropout=0.0=Optimizernadam\n",
      "64\n",
      "Train on 9113 samples, validate on 1013 samples\n",
      "Epoch 1/1\n",
      " - 1s - loss: 0.3166 - accuracy: 0.8622 - val_loss: 0.1787 - val_accuracy: 0.9102\n"
     ]
    },
    {
     "name": "stderr",
     "output_type": "stream",
     "text": [
      "\n",
      "\n",
      "\n",
      "\n",
      "\n",
      "\n",
      "\n",
      "\n",
      " 48%|██████████████████████████████████████▊                                          | 92/192 [04:12<04:26,  2.67s/it]\u001b[A\u001b[A\u001b[A\u001b[A\u001b[A\u001b[A\u001b[A\u001b[A"
     ]
    },
    {
     "name": "stdout",
     "output_type": "stream",
     "text": [
      "IDS-ML-InputNeurons=128-HiddenLayers=3-HiddenNeurons=256-Dropout=0.0=Optimizeradam\n",
      "128\n",
      "Train on 9113 samples, validate on 1013 samples\n",
      "Epoch 1/1\n",
      " - 0s - loss: 0.3675 - accuracy: 0.8373 - val_loss: 0.1484 - val_accuracy: 0.9121\n"
     ]
    },
    {
     "name": "stderr",
     "output_type": "stream",
     "text": [
      "\n",
      "\n",
      "\n",
      "\n",
      "\n",
      "\n",
      "\n",
      "\n",
      " 48%|███████████████████████████████████████▏                                         | 93/192 [04:14<04:23,  2.66s/it]\u001b[A\u001b[A\u001b[A\u001b[A\u001b[A\u001b[A\u001b[A\u001b[A"
     ]
    },
    {
     "name": "stdout",
     "output_type": "stream",
     "text": [
      "IDS-ML-InputNeurons=128-HiddenLayers=3-HiddenNeurons=256-Dropout=0.0=Optimizernadam\n",
      "128\n",
      "Train on 9113 samples, validate on 1013 samples\n",
      "Epoch 1/1\n",
      " - 1s - loss: 0.3499 - accuracy: 0.8500 - val_loss: 0.1898 - val_accuracy: 0.9102\n"
     ]
    },
    {
     "name": "stderr",
     "output_type": "stream",
     "text": [
      "\n",
      "\n",
      "\n",
      "\n",
      "\n",
      "\n",
      "\n",
      "\n",
      " 49%|███████████████████████████████████████▋                                         | 94/192 [04:17<04:27,  2.73s/it]\u001b[A\u001b[A\u001b[A\u001b[A\u001b[A\u001b[A\u001b[A\u001b[A"
     ]
    },
    {
     "name": "stdout",
     "output_type": "stream",
     "text": [
      "IDS-ML-InputNeurons=256-HiddenLayers=3-HiddenNeurons=256-Dropout=0.0=Optimizeradam\n",
      "256\n",
      "Train on 9113 samples, validate on 1013 samples\n",
      "Epoch 1/1\n",
      " - 0s - loss: 0.3596 - accuracy: 0.8365 - val_loss: 0.1796 - val_accuracy: 0.9121\n"
     ]
    },
    {
     "name": "stderr",
     "output_type": "stream",
     "text": [
      "\n",
      "\n",
      "\n",
      "\n",
      "\n",
      "\n",
      "\n",
      "\n",
      " 49%|████████████████████████████████████████                                         | 95/192 [04:20<04:20,  2.69s/it]\u001b[A\u001b[A\u001b[A\u001b[A\u001b[A\u001b[A\u001b[A\u001b[A"
     ]
    },
    {
     "name": "stdout",
     "output_type": "stream",
     "text": [
      "IDS-ML-InputNeurons=256-HiddenLayers=3-HiddenNeurons=256-Dropout=0.0=Optimizernadam\n",
      "256\n",
      "Train on 9113 samples, validate on 1013 samples\n",
      "Epoch 1/1\n",
      " - 1s - loss: 0.3296 - accuracy: 0.8565 - val_loss: 0.1893 - val_accuracy: 0.9102\n"
     ]
    },
    {
     "name": "stderr",
     "output_type": "stream",
     "text": [
      "\n",
      "\n",
      "\n",
      "\n",
      "\n",
      "\n",
      "\n",
      "\n",
      " 50%|████████████████████████████████████████▌                                        | 96/192 [04:23<04:28,  2.80s/it]\u001b[A\u001b[A\u001b[A\u001b[A\u001b[A\u001b[A\u001b[A\u001b[A"
     ]
    },
    {
     "name": "stdout",
     "output_type": "stream",
     "text": [
      "IDS-ML-InputNeurons=32-HiddenLayers=1-HiddenNeurons=32-Dropout=0.2=Optimizeradam\n",
      "32\n",
      "Train on 9113 samples, validate on 1013 samples\n",
      "Epoch 1/1\n",
      " - 0s - loss: 0.8801 - accuracy: 0.6227 - val_loss: 0.6453 - val_accuracy: 0.6328\n"
     ]
    },
    {
     "name": "stderr",
     "output_type": "stream",
     "text": [
      "\n",
      "\n",
      "\n",
      "\n",
      "\n",
      "\n",
      "\n",
      "\n",
      " 51%|████████████████████████████████████████▉                                        | 97/192 [04:25<04:06,  2.60s/it]\u001b[A\u001b[A\u001b[A\u001b[A\u001b[A\u001b[A\u001b[A\u001b[A"
     ]
    },
    {
     "name": "stdout",
     "output_type": "stream",
     "text": [
      "IDS-ML-InputNeurons=32-HiddenLayers=1-HiddenNeurons=32-Dropout=0.2=Optimizernadam\n",
      "32\n",
      "Train on 9113 samples, validate on 1013 samples\n",
      "Epoch 1/1\n",
      " - 0s - loss: 0.6787 - accuracy: 0.7201 - val_loss: 0.4013 - val_accuracy: 0.8233\n"
     ]
    },
    {
     "name": "stderr",
     "output_type": "stream",
     "text": [
      "\n",
      "\n",
      "\n",
      "\n",
      "\n",
      "\n",
      "\n",
      "\n",
      " 51%|█████████████████████████████████████████▎                                       | 98/192 [04:27<03:55,  2.51s/it]\u001b[A\u001b[A\u001b[A\u001b[A\u001b[A\u001b[A\u001b[A\u001b[A"
     ]
    },
    {
     "name": "stdout",
     "output_type": "stream",
     "text": [
      "IDS-ML-InputNeurons=64-HiddenLayers=1-HiddenNeurons=32-Dropout=0.2=Optimizeradam\n",
      "64\n",
      "Train on 9113 samples, validate on 1013 samples\n",
      "Epoch 1/1\n",
      " - 0s - loss: 0.7438 - accuracy: 0.6707 - val_loss: 0.5197 - val_accuracy: 0.8233\n"
     ]
    },
    {
     "name": "stderr",
     "output_type": "stream",
     "text": [
      "\n",
      "\n",
      "\n",
      "\n",
      "\n",
      "\n",
      "\n",
      "\n",
      " 52%|█████████████████████████████████████████▊                                       | 99/192 [04:29<03:42,  2.39s/it]\u001b[A\u001b[A\u001b[A\u001b[A\u001b[A\u001b[A\u001b[A\u001b[A"
     ]
    },
    {
     "name": "stdout",
     "output_type": "stream",
     "text": [
      "IDS-ML-InputNeurons=64-HiddenLayers=1-HiddenNeurons=32-Dropout=0.2=Optimizernadam\n",
      "64\n",
      "Train on 9113 samples, validate on 1013 samples\n",
      "Epoch 1/1\n",
      " - 0s - loss: 0.6287 - accuracy: 0.7660 - val_loss: 0.3351 - val_accuracy: 0.8213\n"
     ]
    },
    {
     "name": "stderr",
     "output_type": "stream",
     "text": [
      "\n",
      "\n",
      "\n",
      "\n",
      "\n",
      "\n",
      "\n",
      "\n",
      " 52%|█████████████████████████████████████████▋                                      | 100/192 [04:31<03:29,  2.28s/it]\u001b[A\u001b[A\u001b[A\u001b[A\u001b[A\u001b[A\u001b[A\u001b[A"
     ]
    },
    {
     "name": "stdout",
     "output_type": "stream",
     "text": [
      "IDS-ML-InputNeurons=128-HiddenLayers=1-HiddenNeurons=32-Dropout=0.2=Optimizeradam\n",
      "128\n",
      "Train on 9113 samples, validate on 1013 samples\n",
      "Epoch 1/1\n",
      " - 0s - loss: 0.7146 - accuracy: 0.7734 - val_loss: 0.4332 - val_accuracy: 0.8174\n"
     ]
    },
    {
     "name": "stderr",
     "output_type": "stream",
     "text": [
      "\n",
      "\n",
      "\n",
      "\n",
      "\n",
      "\n",
      "\n",
      "\n",
      " 53%|██████████████████████████████████████████                                      | 101/192 [04:33<03:23,  2.24s/it]\u001b[A\u001b[A\u001b[A\u001b[A\u001b[A\u001b[A\u001b[A\u001b[A"
     ]
    },
    {
     "name": "stdout",
     "output_type": "stream",
     "text": [
      "IDS-ML-InputNeurons=128-HiddenLayers=1-HiddenNeurons=32-Dropout=0.2=Optimizernadam\n",
      "128\n",
      "Train on 9113 samples, validate on 1013 samples\n",
      "Epoch 1/1\n",
      " - 0s - loss: 0.5446 - accuracy: 0.8004 - val_loss: 0.2685 - val_accuracy: 0.9052\n"
     ]
    },
    {
     "name": "stderr",
     "output_type": "stream",
     "text": [
      "\n",
      "\n",
      "\n",
      "\n",
      "\n",
      "\n",
      "\n",
      "\n",
      " 53%|██████████████████████████████████████████▌                                     | 102/192 [04:36<03:26,  2.29s/it]\u001b[A\u001b[A\u001b[A\u001b[A\u001b[A\u001b[A\u001b[A\u001b[A"
     ]
    },
    {
     "name": "stdout",
     "output_type": "stream",
     "text": [
      "IDS-ML-InputNeurons=256-HiddenLayers=1-HiddenNeurons=32-Dropout=0.2=Optimizeradam\n",
      "256\n",
      "Train on 9113 samples, validate on 1013 samples\n",
      "Epoch 1/1\n",
      " - 0s - loss: 0.6433 - accuracy: 0.7845 - val_loss: 0.3597 - val_accuracy: 0.8174\n"
     ]
    },
    {
     "name": "stderr",
     "output_type": "stream",
     "text": [
      "\n",
      "\n",
      "\n",
      "\n",
      "\n",
      "\n",
      "\n",
      "\n",
      " 54%|██████████████████████████████████████████▉                                     | 103/192 [04:38<03:20,  2.26s/it]\u001b[A\u001b[A\u001b[A\u001b[A\u001b[A\u001b[A\u001b[A\u001b[A"
     ]
    },
    {
     "name": "stdout",
     "output_type": "stream",
     "text": [
      "IDS-ML-InputNeurons=256-HiddenLayers=1-HiddenNeurons=32-Dropout=0.2=Optimizernadam\n",
      "256\n",
      "Train on 9113 samples, validate on 1013 samples\n",
      "Epoch 1/1\n",
      " - 0s - loss: 0.4831 - accuracy: 0.8183 - val_loss: 0.2312 - val_accuracy: 0.9072\n"
     ]
    },
    {
     "name": "stderr",
     "output_type": "stream",
     "text": [
      "\n",
      "\n",
      "\n",
      "\n",
      "\n",
      "\n",
      "\n",
      "\n",
      " 54%|███████████████████████████████████████████▎                                    | 104/192 [04:40<03:22,  2.30s/it]\u001b[A\u001b[A\u001b[A\u001b[A\u001b[A\u001b[A\u001b[A\u001b[A"
     ]
    },
    {
     "name": "stdout",
     "output_type": "stream",
     "text": [
      "IDS-ML-InputNeurons=32-HiddenLayers=2-HiddenNeurons=32-Dropout=0.2=Optimizeradam\n",
      "32\n",
      "Train on 9113 samples, validate on 1013 samples\n",
      "Epoch 1/1\n",
      " - 0s - loss: 0.8246 - accuracy: 0.6183 - val_loss: 0.5722 - val_accuracy: 0.6328\n"
     ]
    },
    {
     "name": "stderr",
     "output_type": "stream",
     "text": [
      "\n",
      "\n",
      "\n",
      "\n",
      "\n",
      "\n",
      "\n",
      "\n",
      " 55%|███████████████████████████████████████████▊                                    | 105/192 [04:43<03:25,  2.36s/it]\u001b[A\u001b[A\u001b[A\u001b[A\u001b[A\u001b[A\u001b[A\u001b[A"
     ]
    },
    {
     "name": "stdout",
     "output_type": "stream",
     "text": [
      "IDS-ML-InputNeurons=32-HiddenLayers=2-HiddenNeurons=32-Dropout=0.2=Optimizernadam\n",
      "32\n",
      "Train on 9113 samples, validate on 1013 samples\n",
      "Epoch 1/1\n",
      " - 0s - loss: 0.6393 - accuracy: 0.7473 - val_loss: 0.3105 - val_accuracy: 0.8825\n"
     ]
    },
    {
     "name": "stderr",
     "output_type": "stream",
     "text": [
      "\n",
      "\n",
      "\n",
      "\n",
      "\n",
      "\n",
      "\n",
      "\n",
      " 55%|████████████████████████████████████████████▏                                   | 106/192 [04:46<03:38,  2.54s/it]\u001b[A\u001b[A\u001b[A\u001b[A\u001b[A\u001b[A\u001b[A\u001b[A"
     ]
    },
    {
     "name": "stdout",
     "output_type": "stream",
     "text": [
      "IDS-ML-InputNeurons=64-HiddenLayers=2-HiddenNeurons=32-Dropout=0.2=Optimizeradam\n",
      "64\n",
      "Train on 9113 samples, validate on 1013 samples\n",
      "Epoch 1/1\n",
      " - 0s - loss: 0.8623 - accuracy: 0.5774 - val_loss: 0.5812 - val_accuracy: 0.6328\n"
     ]
    },
    {
     "name": "stderr",
     "output_type": "stream",
     "text": [
      "\n",
      "\n",
      "\n",
      "\n",
      "\n",
      "\n",
      "\n",
      "\n",
      " 56%|████████████████████████████████████████████▌                                   | 107/192 [04:48<03:36,  2.54s/it]\u001b[A\u001b[A\u001b[A\u001b[A\u001b[A\u001b[A\u001b[A\u001b[A"
     ]
    },
    {
     "name": "stdout",
     "output_type": "stream",
     "text": [
      "IDS-ML-InputNeurons=64-HiddenLayers=2-HiddenNeurons=32-Dropout=0.2=Optimizernadam\n",
      "64\n",
      "Train on 9113 samples, validate on 1013 samples\n",
      "Epoch 1/1\n",
      " - 0s - loss: 0.5724 - accuracy: 0.7594 - val_loss: 0.2598 - val_accuracy: 0.8875\n"
     ]
    },
    {
     "name": "stderr",
     "output_type": "stream",
     "text": [
      "\n",
      "\n",
      "\n",
      "\n",
      "\n",
      "\n",
      "\n",
      "\n",
      " 56%|█████████████████████████████████████████████                                   | 108/192 [04:51<03:41,  2.63s/it]\u001b[A\u001b[A\u001b[A\u001b[A\u001b[A\u001b[A\u001b[A\u001b[A"
     ]
    },
    {
     "name": "stdout",
     "output_type": "stream",
     "text": [
      "IDS-ML-InputNeurons=128-HiddenLayers=2-HiddenNeurons=32-Dropout=0.2=Optimizeradam\n",
      "128\n",
      "Train on 9113 samples, validate on 1013 samples\n",
      "Epoch 1/1\n",
      " - 0s - loss: 0.7644 - accuracy: 0.6786 - val_loss: 0.4488 - val_accuracy: 0.8184\n"
     ]
    },
    {
     "name": "stderr",
     "output_type": "stream",
     "text": [
      "\n",
      "\n",
      "\n",
      "\n",
      "\n",
      "\n",
      "\n",
      "\n",
      " 57%|█████████████████████████████████████████████▍                                  | 109/192 [04:54<03:40,  2.66s/it]\u001b[A\u001b[A\u001b[A\u001b[A\u001b[A\u001b[A\u001b[A\u001b[A"
     ]
    },
    {
     "name": "stdout",
     "output_type": "stream",
     "text": [
      "IDS-ML-InputNeurons=128-HiddenLayers=2-HiddenNeurons=32-Dropout=0.2=Optimizernadam\n",
      "128\n",
      "Train on 9113 samples, validate on 1013 samples\n",
      "Epoch 1/1\n",
      " - 0s - loss: 0.5211 - accuracy: 0.7877 - val_loss: 0.2253 - val_accuracy: 0.9082\n"
     ]
    },
    {
     "name": "stderr",
     "output_type": "stream",
     "text": [
      "\n",
      "\n",
      "\n",
      "\n",
      "\n",
      "\n",
      "\n",
      "\n",
      " 57%|█████████████████████████████████████████████▊                                  | 110/192 [04:57<03:44,  2.74s/it]\u001b[A\u001b[A\u001b[A\u001b[A\u001b[A\u001b[A\u001b[A\u001b[A"
     ]
    },
    {
     "name": "stdout",
     "output_type": "stream",
     "text": [
      "IDS-ML-InputNeurons=256-HiddenLayers=2-HiddenNeurons=32-Dropout=0.2=Optimizeradam\n",
      "256\n",
      "Train on 9113 samples, validate on 1013 samples\n",
      "Epoch 1/1\n",
      " - 0s - loss: 0.6768 - accuracy: 0.7540 - val_loss: 0.3565 - val_accuracy: 0.8223\n"
     ]
    },
    {
     "name": "stderr",
     "output_type": "stream",
     "text": [
      "\n",
      "\n",
      "\n",
      "\n",
      "\n",
      "\n",
      "\n",
      "\n",
      " 58%|██████████████████████████████████████████████▎                                 | 111/192 [05:00<03:41,  2.73s/it]\u001b[A\u001b[A\u001b[A\u001b[A\u001b[A\u001b[A\u001b[A\u001b[A"
     ]
    },
    {
     "name": "stdout",
     "output_type": "stream",
     "text": [
      "IDS-ML-InputNeurons=256-HiddenLayers=2-HiddenNeurons=32-Dropout=0.2=Optimizernadam\n",
      "256\n",
      "Train on 9113 samples, validate on 1013 samples\n",
      "Epoch 1/1\n",
      " - 0s - loss: 0.4869 - accuracy: 0.8178 - val_loss: 0.2380 - val_accuracy: 0.8944\n"
     ]
    },
    {
     "name": "stderr",
     "output_type": "stream",
     "text": [
      "\n",
      "\n",
      "\n",
      "\n",
      "\n",
      "\n",
      "\n",
      "\n",
      " 58%|██████████████████████████████████████████████▋                                 | 112/192 [05:03<03:47,  2.84s/it]\u001b[A\u001b[A\u001b[A\u001b[A\u001b[A\u001b[A\u001b[A\u001b[A"
     ]
    },
    {
     "name": "stdout",
     "output_type": "stream",
     "text": [
      "IDS-ML-InputNeurons=32-HiddenLayers=3-HiddenNeurons=32-Dropout=0.2=Optimizeradam\n",
      "32\n",
      "Train on 9113 samples, validate on 1013 samples\n",
      "Epoch 1/1\n",
      " - 0s - loss: 0.8502 - accuracy: 0.6196 - val_loss: 0.5698 - val_accuracy: 0.7947\n"
     ]
    },
    {
     "name": "stderr",
     "output_type": "stream",
     "text": [
      "\n",
      "\n",
      "\n",
      "\n",
      "\n",
      "\n",
      "\n",
      "\n",
      " 59%|███████████████████████████████████████████████                                 | 113/192 [05:06<03:52,  2.94s/it]\u001b[A\u001b[A\u001b[A\u001b[A\u001b[A\u001b[A\u001b[A\u001b[A"
     ]
    },
    {
     "name": "stdout",
     "output_type": "stream",
     "text": [
      "IDS-ML-InputNeurons=32-HiddenLayers=3-HiddenNeurons=32-Dropout=0.2=Optimizernadam\n",
      "32\n",
      "Train on 9113 samples, validate on 1013 samples\n",
      "Epoch 1/1\n",
      " - 1s - loss: 0.6298 - accuracy: 0.7418 - val_loss: 0.2810 - val_accuracy: 0.9042\n"
     ]
    },
    {
     "name": "stderr",
     "output_type": "stream",
     "text": [
      "\n",
      "\n",
      "\n",
      "\n",
      "\n",
      "\n",
      "\n",
      "\n",
      " 59%|███████████████████████████████████████████████▌                                | 114/192 [05:09<04:02,  3.11s/it]\u001b[A\u001b[A\u001b[A\u001b[A\u001b[A\u001b[A\u001b[A\u001b[A"
     ]
    },
    {
     "name": "stdout",
     "output_type": "stream",
     "text": [
      "IDS-ML-InputNeurons=64-HiddenLayers=3-HiddenNeurons=32-Dropout=0.2=Optimizeradam\n",
      "64\n",
      "Train on 9113 samples, validate on 1013 samples\n",
      "Epoch 1/1\n",
      " - 0s - loss: 0.9357 - accuracy: 0.5860 - val_loss: 0.5923 - val_accuracy: 0.6328\n"
     ]
    },
    {
     "name": "stderr",
     "output_type": "stream",
     "text": [
      "\n",
      "\n",
      "\n",
      "\n",
      "\n",
      "\n",
      "\n",
      "\n",
      " 60%|███████████████████████████████████████████████▉                                | 115/192 [05:13<04:09,  3.24s/it]\u001b[A\u001b[A\u001b[A\u001b[A\u001b[A\u001b[A\u001b[A\u001b[A"
     ]
    },
    {
     "name": "stdout",
     "output_type": "stream",
     "text": [
      "IDS-ML-InputNeurons=64-HiddenLayers=3-HiddenNeurons=32-Dropout=0.2=Optimizernadam\n",
      "64\n",
      "Train on 9113 samples, validate on 1013 samples\n",
      "Epoch 1/1\n",
      " - 0s - loss: 0.5808 - accuracy: 0.7348 - val_loss: 0.2602 - val_accuracy: 0.9102\n"
     ]
    },
    {
     "name": "stderr",
     "output_type": "stream",
     "text": [
      "\n",
      "\n",
      "\n",
      "\n",
      "\n",
      "\n",
      "\n",
      "\n",
      " 60%|████████████████████████████████████████████████▎                               | 116/192 [05:16<04:07,  3.25s/it]\u001b[A\u001b[A\u001b[A\u001b[A\u001b[A\u001b[A\u001b[A\u001b[A"
     ]
    },
    {
     "name": "stdout",
     "output_type": "stream",
     "text": [
      "IDS-ML-InputNeurons=128-HiddenLayers=3-HiddenNeurons=32-Dropout=0.2=Optimizeradam\n",
      "128\n",
      "Train on 9113 samples, validate on 1013 samples\n",
      "Epoch 1/1\n",
      " - 0s - loss: 0.7402 - accuracy: 0.7015 - val_loss: 0.3623 - val_accuracy: 0.8223\n"
     ]
    },
    {
     "name": "stderr",
     "output_type": "stream",
     "text": [
      "\n",
      "\n",
      "\n",
      "\n",
      "\n",
      "\n",
      "\n",
      "\n",
      " 61%|████████████████████████████████████████████████▊                               | 117/192 [05:20<04:05,  3.27s/it]\u001b[A\u001b[A\u001b[A\u001b[A\u001b[A\u001b[A\u001b[A\u001b[A"
     ]
    },
    {
     "name": "stdout",
     "output_type": "stream",
     "text": [
      "IDS-ML-InputNeurons=128-HiddenLayers=3-HiddenNeurons=32-Dropout=0.2=Optimizernadam\n",
      "128\n",
      "Train on 9113 samples, validate on 1013 samples\n",
      "Epoch 1/1\n",
      " - 1s - loss: 0.5185 - accuracy: 0.7621 - val_loss: 0.2213 - val_accuracy: 0.9102\n"
     ]
    },
    {
     "name": "stderr",
     "output_type": "stream",
     "text": [
      "\n",
      "\n",
      "\n",
      "\n",
      "\n",
      "\n",
      "\n",
      "\n",
      " 61%|█████████████████████████████████████████████████▏                              | 118/192 [05:23<04:14,  3.43s/it]\u001b[A\u001b[A\u001b[A\u001b[A\u001b[A\u001b[A\u001b[A\u001b[A"
     ]
    },
    {
     "name": "stdout",
     "output_type": "stream",
     "text": [
      "IDS-ML-InputNeurons=256-HiddenLayers=3-HiddenNeurons=32-Dropout=0.2=Optimizeradam\n",
      "256\n",
      "Train on 9113 samples, validate on 1013 samples\n",
      "Epoch 1/1\n",
      " - 0s - loss: 0.6659 - accuracy: 0.6693 - val_loss: 0.3762 - val_accuracy: 0.8973\n"
     ]
    },
    {
     "name": "stderr",
     "output_type": "stream",
     "text": [
      "\n",
      "\n",
      "\n",
      "\n",
      "\n",
      "\n",
      "\n",
      "\n",
      " 62%|█████████████████████████████████████████████████▌                              | 119/192 [05:27<04:08,  3.40s/it]\u001b[A\u001b[A\u001b[A\u001b[A\u001b[A\u001b[A\u001b[A\u001b[A"
     ]
    },
    {
     "name": "stdout",
     "output_type": "stream",
     "text": [
      "IDS-ML-InputNeurons=256-HiddenLayers=3-HiddenNeurons=32-Dropout=0.2=Optimizernadam\n",
      "256\n",
      "Train on 9113 samples, validate on 1013 samples\n",
      "Epoch 1/1\n",
      " - 1s - loss: 0.4669 - accuracy: 0.8180 - val_loss: 0.5337 - val_accuracy: 0.7493\n"
     ]
    },
    {
     "name": "stderr",
     "output_type": "stream",
     "text": [
      "\n",
      "\n",
      "\n",
      "\n",
      "\n",
      "\n",
      "\n",
      "\n",
      " 62%|██████████████████████████████████████████████████                              | 120/192 [05:30<04:10,  3.48s/it]\u001b[A\u001b[A\u001b[A\u001b[A\u001b[A\u001b[A\u001b[A\u001b[A"
     ]
    },
    {
     "name": "stdout",
     "output_type": "stream",
     "text": [
      "IDS-ML-InputNeurons=32-HiddenLayers=1-HiddenNeurons=64-Dropout=0.2=Optimizeradam\n",
      "32\n",
      "Train on 9113 samples, validate on 1013 samples\n",
      "Epoch 1/1\n",
      " - 0s - loss: 0.7781 - accuracy: 0.7476 - val_loss: 0.5419 - val_accuracy: 0.8164\n"
     ]
    },
    {
     "name": "stderr",
     "output_type": "stream",
     "text": [
      "\n",
      "\n",
      "\n",
      "\n",
      "\n",
      "\n",
      "\n",
      "\n",
      " 63%|██████████████████████████████████████████████████▍                             | 121/192 [05:33<03:38,  3.08s/it]\u001b[A\u001b[A\u001b[A\u001b[A\u001b[A\u001b[A\u001b[A\u001b[A"
     ]
    },
    {
     "name": "stdout",
     "output_type": "stream",
     "text": [
      "IDS-ML-InputNeurons=32-HiddenLayers=1-HiddenNeurons=64-Dropout=0.2=Optimizernadam\n",
      "32\n",
      "Train on 9113 samples, validate on 1013 samples\n",
      "Epoch 1/1\n",
      " - 0s - loss: 0.6463 - accuracy: 0.7485 - val_loss: 0.3444 - val_accuracy: 0.8203\n"
     ]
    },
    {
     "name": "stderr",
     "output_type": "stream",
     "text": [
      "\n",
      "\n",
      "\n",
      "\n",
      "\n",
      "\n",
      "\n",
      "\n",
      " 64%|██████████████████████████████████████████████████▊                             | 122/192 [05:35<03:20,  2.86s/it]\u001b[A\u001b[A\u001b[A\u001b[A\u001b[A\u001b[A\u001b[A\u001b[A"
     ]
    },
    {
     "name": "stdout",
     "output_type": "stream",
     "text": [
      "IDS-ML-InputNeurons=64-HiddenLayers=1-HiddenNeurons=64-Dropout=0.2=Optimizeradam\n",
      "64\n",
      "Train on 9113 samples, validate on 1013 samples\n",
      "Epoch 1/1\n",
      " - 0s - loss: 0.7366 - accuracy: 0.7060 - val_loss: 0.4740 - val_accuracy: 0.8184\n"
     ]
    },
    {
     "name": "stderr",
     "output_type": "stream",
     "text": [
      "\n",
      "\n",
      "\n",
      "\n",
      "\n",
      "\n",
      "\n",
      "\n",
      " 64%|███████████████████████████████████████████████████▎                            | 123/192 [05:37<03:02,  2.64s/it]\u001b[A\u001b[A\u001b[A\u001b[A\u001b[A\u001b[A\u001b[A\u001b[A"
     ]
    },
    {
     "name": "stdout",
     "output_type": "stream",
     "text": [
      "IDS-ML-InputNeurons=64-HiddenLayers=1-HiddenNeurons=64-Dropout=0.2=Optimizernadam\n",
      "64\n",
      "Train on 9113 samples, validate on 1013 samples\n",
      "Epoch 1/1\n",
      " - 0s - loss: 0.5751 - accuracy: 0.7814 - val_loss: 0.2797 - val_accuracy: 0.9013\n"
     ]
    },
    {
     "name": "stderr",
     "output_type": "stream",
     "text": [
      "\n",
      "\n",
      "\n",
      "\n",
      "\n",
      "\n",
      "\n",
      "\n",
      " 65%|███████████████████████████████████████████████████▋                            | 124/192 [05:39<02:56,  2.59s/it]\u001b[A\u001b[A\u001b[A\u001b[A\u001b[A\u001b[A\u001b[A\u001b[A"
     ]
    },
    {
     "name": "stdout",
     "output_type": "stream",
     "text": [
      "IDS-ML-InputNeurons=128-HiddenLayers=1-HiddenNeurons=64-Dropout=0.2=Optimizeradam\n",
      "128\n",
      "Train on 9113 samples, validate on 1013 samples\n",
      "Epoch 1/1\n",
      " - 0s - loss: 0.6754 - accuracy: 0.7534 - val_loss: 0.3848 - val_accuracy: 0.8213\n"
     ]
    },
    {
     "name": "stderr",
     "output_type": "stream",
     "text": [
      "\n",
      "\n",
      "\n",
      "\n",
      "\n",
      "\n",
      "\n",
      "\n",
      " 65%|████████████████████████████████████████████████████                            | 125/192 [05:42<02:48,  2.51s/it]\u001b[A\u001b[A\u001b[A\u001b[A\u001b[A\u001b[A\u001b[A\u001b[A"
     ]
    },
    {
     "name": "stdout",
     "output_type": "stream",
     "text": [
      "IDS-ML-InputNeurons=128-HiddenLayers=1-HiddenNeurons=64-Dropout=0.2=Optimizernadam\n",
      "128\n",
      "Train on 9113 samples, validate on 1013 samples\n",
      "Epoch 1/1\n",
      " - 0s - loss: 0.4612 - accuracy: 0.8260 - val_loss: 0.2267 - val_accuracy: 0.9092\n"
     ]
    },
    {
     "name": "stderr",
     "output_type": "stream",
     "text": [
      "\n",
      "\n",
      "\n",
      "\n",
      "\n",
      "\n",
      "\n",
      "\n",
      " 66%|████████████████████████████████████████████████████▌                           | 126/192 [05:44<02:41,  2.45s/it]\u001b[A\u001b[A\u001b[A\u001b[A\u001b[A\u001b[A\u001b[A\u001b[A"
     ]
    },
    {
     "name": "stdout",
     "output_type": "stream",
     "text": [
      "IDS-ML-InputNeurons=256-HiddenLayers=1-HiddenNeurons=64-Dropout=0.2=Optimizeradam\n",
      "256\n",
      "Train on 9113 samples, validate on 1013 samples\n",
      "Epoch 1/1\n",
      " - 0s - loss: 0.6121 - accuracy: 0.7844 - val_loss: 0.3192 - val_accuracy: 0.8875\n"
     ]
    },
    {
     "name": "stderr",
     "output_type": "stream",
     "text": [
      "\n",
      "\n",
      "\n",
      "\n",
      "\n",
      "\n",
      "\n",
      "\n",
      " 66%|████████████████████████████████████████████████████▉                           | 127/192 [05:47<02:40,  2.46s/it]\u001b[A\u001b[A\u001b[A\u001b[A\u001b[A\u001b[A\u001b[A\u001b[A"
     ]
    },
    {
     "name": "stdout",
     "output_type": "stream",
     "text": [
      "IDS-ML-InputNeurons=256-HiddenLayers=1-HiddenNeurons=64-Dropout=0.2=Optimizernadam\n",
      "256\n",
      "Train on 9113 samples, validate on 1013 samples\n",
      "Epoch 1/1\n",
      " - 0s - loss: 0.4409 - accuracy: 0.8374 - val_loss: 0.2087 - val_accuracy: 0.9092\n"
     ]
    },
    {
     "name": "stderr",
     "output_type": "stream",
     "text": [
      "\n",
      "\n",
      "\n",
      "\n",
      "\n",
      "\n",
      "\n",
      "\n",
      " 67%|█████████████████████████████████████████████████████▎                          | 128/192 [05:49<02:34,  2.42s/it]\u001b[A\u001b[A\u001b[A\u001b[A\u001b[A\u001b[A\u001b[A\u001b[A"
     ]
    },
    {
     "name": "stdout",
     "output_type": "stream",
     "text": [
      "IDS-ML-InputNeurons=32-HiddenLayers=2-HiddenNeurons=64-Dropout=0.2=Optimizeradam\n",
      "32\n",
      "Train on 9113 samples, validate on 1013 samples\n",
      "Epoch 1/1\n",
      " - 0s - loss: 0.7379 - accuracy: 0.6981 - val_loss: 0.4227 - val_accuracy: 0.8174\n"
     ]
    },
    {
     "name": "stderr",
     "output_type": "stream",
     "text": [
      "\n",
      "\n",
      "\n",
      "\n",
      "\n",
      "\n",
      "\n",
      "\n",
      " 67%|█████████████████████████████████████████████████████▊                          | 129/192 [05:52<02:46,  2.64s/it]\u001b[A\u001b[A\u001b[A\u001b[A\u001b[A\u001b[A\u001b[A\u001b[A"
     ]
    },
    {
     "name": "stdout",
     "output_type": "stream",
     "text": [
      "IDS-ML-InputNeurons=32-HiddenLayers=2-HiddenNeurons=64-Dropout=0.2=Optimizernadam\n",
      "32\n",
      "Train on 9113 samples, validate on 1013 samples\n",
      "Epoch 1/1\n",
      " - 1s - loss: 0.5446 - accuracy: 0.7709 - val_loss: 0.2369 - val_accuracy: 0.9072\n"
     ]
    },
    {
     "name": "stderr",
     "output_type": "stream",
     "text": [
      "\n",
      "\n",
      "\n",
      "\n",
      "\n",
      "\n",
      "\n",
      "\n",
      " 68%|██████████████████████████████████████████████████████▏                         | 130/192 [05:55<02:57,  2.87s/it]\u001b[A\u001b[A\u001b[A\u001b[A\u001b[A\u001b[A\u001b[A\u001b[A"
     ]
    },
    {
     "name": "stdout",
     "output_type": "stream",
     "text": [
      "IDS-ML-InputNeurons=64-HiddenLayers=2-HiddenNeurons=64-Dropout=0.2=Optimizeradam\n",
      "64\n",
      "Train on 9113 samples, validate on 1013 samples\n",
      "Epoch 1/1\n",
      " - 0s - loss: 0.7320 - accuracy: 0.6926 - val_loss: 0.3949 - val_accuracy: 0.8203\n"
     ]
    },
    {
     "name": "stderr",
     "output_type": "stream",
     "text": [
      "\n",
      "\n",
      "\n",
      "\n",
      "\n",
      "\n",
      "\n",
      "\n",
      " 68%|██████████████████████████████████████████████████████▌                         | 131/192 [05:59<03:03,  3.01s/it]\u001b[A\u001b[A\u001b[A\u001b[A\u001b[A\u001b[A\u001b[A\u001b[A"
     ]
    },
    {
     "name": "stdout",
     "output_type": "stream",
     "text": [
      "IDS-ML-InputNeurons=64-HiddenLayers=2-HiddenNeurons=64-Dropout=0.2=Optimizernadam\n",
      "64\n",
      "Train on 9113 samples, validate on 1013 samples\n",
      "Epoch 1/1\n",
      " - 1s - loss: 0.5178 - accuracy: 0.7821 - val_loss: 0.2191 - val_accuracy: 0.9082\n"
     ]
    },
    {
     "name": "stderr",
     "output_type": "stream",
     "text": [
      "\n",
      "\n",
      "\n",
      "\n",
      "\n",
      "\n",
      "\n",
      "\n",
      " 69%|███████████████████████████████████████████████████████                         | 132/192 [06:02<03:05,  3.10s/it]\u001b[A\u001b[A\u001b[A\u001b[A\u001b[A\u001b[A\u001b[A\u001b[A"
     ]
    },
    {
     "name": "stdout",
     "output_type": "stream",
     "text": [
      "IDS-ML-InputNeurons=128-HiddenLayers=2-HiddenNeurons=64-Dropout=0.2=Optimizeradam\n",
      "128\n",
      "Train on 9113 samples, validate on 1013 samples\n",
      "Epoch 1/1\n",
      " - 0s - loss: 0.6944 - accuracy: 0.7093 - val_loss: 0.3538 - val_accuracy: 0.8184\n"
     ]
    },
    {
     "name": "stderr",
     "output_type": "stream",
     "text": [
      "\n",
      "\n",
      "\n",
      "\n",
      "\n",
      "\n",
      "\n",
      "\n",
      " 69%|███████████████████████████████████████████████████████▍                        | 133/192 [06:05<02:54,  2.96s/it]\u001b[A\u001b[A\u001b[A\u001b[A\u001b[A\u001b[A\u001b[A\u001b[A"
     ]
    },
    {
     "name": "stdout",
     "output_type": "stream",
     "text": [
      "IDS-ML-InputNeurons=128-HiddenLayers=2-HiddenNeurons=64-Dropout=0.2=Optimizernadam\n",
      "128\n",
      "Train on 9113 samples, validate on 1013 samples\n",
      "Epoch 1/1\n",
      " - 0s - loss: 0.4493 - accuracy: 0.8081 - val_loss: 0.2032 - val_accuracy: 0.9102\n"
     ]
    },
    {
     "name": "stderr",
     "output_type": "stream",
     "text": [
      "\n",
      "\n",
      "\n",
      "\n",
      "\n",
      "\n",
      "\n",
      "\n",
      " 70%|███████████████████████████████████████████████████████▊                        | 134/192 [06:08<02:51,  2.95s/it]\u001b[A\u001b[A\u001b[A\u001b[A\u001b[A\u001b[A\u001b[A\u001b[A"
     ]
    },
    {
     "name": "stdout",
     "output_type": "stream",
     "text": [
      "IDS-ML-InputNeurons=256-HiddenLayers=2-HiddenNeurons=64-Dropout=0.2=Optimizeradam\n",
      "256\n",
      "Train on 9113 samples, validate on 1013 samples\n",
      "Epoch 1/1\n",
      " - 0s - loss: 0.5898 - accuracy: 0.7759 - val_loss: 0.2937 - val_accuracy: 0.8815\n"
     ]
    },
    {
     "name": "stderr",
     "output_type": "stream",
     "text": [
      "\n",
      "\n",
      "\n",
      "\n",
      "\n",
      "\n",
      "\n",
      "\n",
      " 70%|████████████████████████████████████████████████████████▎                       | 135/192 [06:10<02:43,  2.87s/it]\u001b[A\u001b[A\u001b[A\u001b[A\u001b[A\u001b[A\u001b[A\u001b[A"
     ]
    },
    {
     "name": "stdout",
     "output_type": "stream",
     "text": [
      "IDS-ML-InputNeurons=256-HiddenLayers=2-HiddenNeurons=64-Dropout=0.2=Optimizernadam\n",
      "256\n",
      "Train on 9113 samples, validate on 1013 samples\n",
      "Epoch 1/1\n",
      " - 0s - loss: 0.4062 - accuracy: 0.8401 - val_loss: 0.1881 - val_accuracy: 0.9112\n"
     ]
    },
    {
     "name": "stderr",
     "output_type": "stream",
     "text": [
      "\n",
      "\n",
      "\n",
      "\n",
      "\n",
      "\n",
      "\n",
      "\n",
      " 71%|████████████████████████████████████████████████████████▋                       | 136/192 [06:13<02:43,  2.92s/it]\u001b[A\u001b[A\u001b[A\u001b[A\u001b[A\u001b[A\u001b[A\u001b[A"
     ]
    },
    {
     "name": "stdout",
     "output_type": "stream",
     "text": [
      "IDS-ML-InputNeurons=32-HiddenLayers=3-HiddenNeurons=64-Dropout=0.2=Optimizeradam\n",
      "32\n",
      "Train on 9113 samples, validate on 1013 samples\n",
      "Epoch 1/1\n",
      " - 0s - loss: 0.6798 - accuracy: 0.7519 - val_loss: 0.3724 - val_accuracy: 0.8233\n"
     ]
    },
    {
     "name": "stderr",
     "output_type": "stream",
     "text": [
      "\n",
      "\n",
      "\n",
      "\n",
      "\n",
      "\n",
      "\n",
      "\n",
      " 71%|█████████████████████████████████████████████████████████                       | 137/192 [06:16<02:41,  2.94s/it]\u001b[A\u001b[A\u001b[A\u001b[A\u001b[A\u001b[A\u001b[A\u001b[A"
     ]
    },
    {
     "name": "stdout",
     "output_type": "stream",
     "text": [
      "IDS-ML-InputNeurons=32-HiddenLayers=3-HiddenNeurons=64-Dropout=0.2=Optimizernadam\n",
      "32\n",
      "Train on 9113 samples, validate on 1013 samples\n",
      "Epoch 1/1\n",
      " - 0s - loss: 0.5157 - accuracy: 0.7738 - val_loss: 0.2098 - val_accuracy: 0.9102\n"
     ]
    },
    {
     "name": "stderr",
     "output_type": "stream",
     "text": [
      "\n",
      "\n",
      "\n",
      "\n",
      "\n",
      "\n",
      "\n",
      "\n",
      " 72%|█████████████████████████████████████████████████████████▌                      | 138/192 [06:20<02:49,  3.14s/it]\u001b[A\u001b[A\u001b[A\u001b[A\u001b[A\u001b[A\u001b[A\u001b[A"
     ]
    },
    {
     "name": "stdout",
     "output_type": "stream",
     "text": [
      "IDS-ML-InputNeurons=64-HiddenLayers=3-HiddenNeurons=64-Dropout=0.2=Optimizeradam\n",
      "64\n",
      "Train on 9113 samples, validate on 1013 samples\n",
      "Epoch 1/1\n",
      " - 0s - loss: 0.6792 - accuracy: 0.7199 - val_loss: 0.3198 - val_accuracy: 0.8569\n"
     ]
    },
    {
     "name": "stderr",
     "output_type": "stream",
     "text": [
      "\n",
      "\n",
      "\n",
      "\n",
      "\n",
      "\n",
      "\n",
      "\n",
      " 72%|█████████████████████████████████████████████████████████▉                      | 139/192 [06:23<02:46,  3.14s/it]\u001b[A\u001b[A\u001b[A\u001b[A\u001b[A\u001b[A\u001b[A\u001b[A"
     ]
    },
    {
     "name": "stdout",
     "output_type": "stream",
     "text": [
      "IDS-ML-InputNeurons=64-HiddenLayers=3-HiddenNeurons=64-Dropout=0.2=Optimizernadam\n",
      "64\n",
      "Train on 9113 samples, validate on 1013 samples\n",
      "Epoch 1/1\n",
      " - 1s - loss: 0.4809 - accuracy: 0.8022 - val_loss: 0.1993 - val_accuracy: 0.9092\n"
     ]
    },
    {
     "name": "stderr",
     "output_type": "stream",
     "text": [
      "\n",
      "\n",
      "\n",
      "\n",
      "\n",
      "\n",
      "\n",
      "\n",
      " 73%|██████████████████████████████████████████████████████████▎                     | 140/192 [06:27<02:49,  3.27s/it]\u001b[A\u001b[A\u001b[A\u001b[A\u001b[A\u001b[A\u001b[A\u001b[A"
     ]
    },
    {
     "name": "stdout",
     "output_type": "stream",
     "text": [
      "IDS-ML-InputNeurons=128-HiddenLayers=3-HiddenNeurons=64-Dropout=0.2=Optimizeradam\n",
      "128\n",
      "Train on 9113 samples, validate on 1013 samples\n",
      "Epoch 1/1\n",
      " - 0s - loss: 0.6364 - accuracy: 0.7211 - val_loss: 0.2794 - val_accuracy: 0.9052\n"
     ]
    },
    {
     "name": "stderr",
     "output_type": "stream",
     "text": [
      "\n",
      "\n",
      "\n",
      "\n",
      "\n",
      "\n",
      "\n",
      "\n",
      " 73%|██████████████████████████████████████████████████████████▊                     | 141/192 [06:30<02:48,  3.30s/it]\u001b[A\u001b[A\u001b[A\u001b[A\u001b[A\u001b[A\u001b[A\u001b[A"
     ]
    },
    {
     "name": "stdout",
     "output_type": "stream",
     "text": [
      "IDS-ML-InputNeurons=128-HiddenLayers=3-HiddenNeurons=64-Dropout=0.2=Optimizernadam\n",
      "128\n",
      "Train on 9113 samples, validate on 1013 samples\n",
      "Epoch 1/1\n",
      " - 1s - loss: 0.4167 - accuracy: 0.8332 - val_loss: 0.1960 - val_accuracy: 0.9102\n"
     ]
    },
    {
     "name": "stderr",
     "output_type": "stream",
     "text": [
      "\n",
      "\n",
      "\n",
      "\n",
      "\n",
      "\n",
      "\n",
      "\n",
      " 74%|███████████████████████████████████████████████████████████▏                    | 142/192 [06:33<02:45,  3.30s/it]\u001b[A\u001b[A\u001b[A\u001b[A\u001b[A\u001b[A\u001b[A\u001b[A"
     ]
    },
    {
     "name": "stdout",
     "output_type": "stream",
     "text": [
      "IDS-ML-InputNeurons=256-HiddenLayers=3-HiddenNeurons=64-Dropout=0.2=Optimizeradam\n",
      "256\n",
      "Train on 9113 samples, validate on 1013 samples\n",
      "Epoch 1/1\n",
      " - 1s - loss: 0.5832 - accuracy: 0.7677 - val_loss: 0.2847 - val_accuracy: 0.8233\n"
     ]
    },
    {
     "name": "stderr",
     "output_type": "stream",
     "text": [
      "\n",
      "\n",
      "\n",
      "\n",
      "\n",
      "\n",
      "\n",
      "\n",
      " 74%|███████████████████████████████████████████████████████████▌                    | 143/192 [06:37<02:42,  3.32s/it]\u001b[A\u001b[A\u001b[A\u001b[A\u001b[A\u001b[A\u001b[A\u001b[A"
     ]
    },
    {
     "name": "stdout",
     "output_type": "stream",
     "text": [
      "IDS-ML-InputNeurons=256-HiddenLayers=3-HiddenNeurons=64-Dropout=0.2=Optimizernadam\n",
      "256\n",
      "Train on 9113 samples, validate on 1013 samples\n",
      "Epoch 1/1\n",
      " - 1s - loss: 0.3925 - accuracy: 0.8273 - val_loss: 0.1870 - val_accuracy: 0.9102\n"
     ]
    },
    {
     "name": "stderr",
     "output_type": "stream",
     "text": [
      "\n",
      "\n",
      "\n",
      "\n",
      "\n",
      "\n",
      "\n",
      "\n",
      " 75%|████████████████████████████████████████████████████████████                    | 144/192 [06:40<02:42,  3.38s/it]\u001b[A\u001b[A\u001b[A\u001b[A\u001b[A\u001b[A\u001b[A\u001b[A"
     ]
    },
    {
     "name": "stdout",
     "output_type": "stream",
     "text": [
      "IDS-ML-InputNeurons=32-HiddenLayers=1-HiddenNeurons=128-Dropout=0.2=Optimizeradam\n",
      "32\n",
      "Train on 9113 samples, validate on 1013 samples\n",
      "Epoch 1/1\n",
      " - 0s - loss: 0.7513 - accuracy: 0.6969 - val_loss: 0.4989 - val_accuracy: 0.7759\n"
     ]
    },
    {
     "name": "stderr",
     "output_type": "stream",
     "text": [
      "\n",
      "\n",
      "\n",
      "\n",
      "\n",
      "\n",
      "\n",
      "\n",
      " 76%|████████████████████████████████████████████████████████████▍                   | 145/192 [06:42<02:20,  2.98s/it]\u001b[A\u001b[A\u001b[A\u001b[A\u001b[A\u001b[A\u001b[A\u001b[A"
     ]
    },
    {
     "name": "stdout",
     "output_type": "stream",
     "text": [
      "IDS-ML-InputNeurons=32-HiddenLayers=1-HiddenNeurons=128-Dropout=0.2=Optimizernadam\n",
      "32\n",
      "Train on 9113 samples, validate on 1013 samples\n",
      "Epoch 1/1\n",
      " - 0s - loss: 0.5830 - accuracy: 0.7560 - val_loss: 0.2953 - val_accuracy: 0.8865\n"
     ]
    },
    {
     "name": "stderr",
     "output_type": "stream",
     "text": [
      "\n",
      "\n",
      "\n",
      "\n",
      "\n",
      "\n",
      "\n",
      "\n",
      " 76%|████████████████████████████████████████████████████████████▊                   | 146/192 [06:45<02:06,  2.75s/it]\u001b[A\u001b[A\u001b[A\u001b[A\u001b[A\u001b[A\u001b[A\u001b[A"
     ]
    },
    {
     "name": "stdout",
     "output_type": "stream",
     "text": [
      "IDS-ML-InputNeurons=64-HiddenLayers=1-HiddenNeurons=128-Dropout=0.2=Optimizeradam\n",
      "64\n",
      "Train on 9113 samples, validate on 1013 samples\n",
      "Epoch 1/1\n",
      " - 0s - loss: 0.7006 - accuracy: 0.6931 - val_loss: 0.3968 - val_accuracy: 0.8154\n"
     ]
    },
    {
     "name": "stderr",
     "output_type": "stream",
     "text": [
      "\n",
      "\n",
      "\n",
      "\n",
      "\n",
      "\n",
      "\n",
      "\n",
      " 77%|█████████████████████████████████████████████████████████████▎                  | 147/192 [06:47<01:56,  2.58s/it]\u001b[A\u001b[A\u001b[A\u001b[A\u001b[A\u001b[A\u001b[A\u001b[A"
     ]
    },
    {
     "name": "stdout",
     "output_type": "stream",
     "text": [
      "IDS-ML-InputNeurons=64-HiddenLayers=1-HiddenNeurons=128-Dropout=0.2=Optimizernadam\n",
      "64\n",
      "Train on 9113 samples, validate on 1013 samples\n",
      "Epoch 1/1\n",
      " - 0s - loss: 0.4968 - accuracy: 0.7967 - val_loss: 0.2423 - val_accuracy: 0.9062\n"
     ]
    },
    {
     "name": "stderr",
     "output_type": "stream",
     "text": [
      "\n",
      "\n",
      "\n",
      "\n",
      "\n",
      "\n",
      "\n",
      "\n",
      " 77%|█████████████████████████████████████████████████████████████▋                  | 148/192 [06:49<01:48,  2.47s/it]\u001b[A\u001b[A\u001b[A\u001b[A\u001b[A\u001b[A\u001b[A\u001b[A"
     ]
    },
    {
     "name": "stdout",
     "output_type": "stream",
     "text": [
      "IDS-ML-InputNeurons=128-HiddenLayers=1-HiddenNeurons=128-Dropout=0.2=Optimizeradam\n",
      "128\n",
      "Train on 9113 samples, validate on 1013 samples\n",
      "Epoch 1/1\n",
      " - 0s - loss: 0.6075 - accuracy: 0.7771 - val_loss: 0.3319 - val_accuracy: 0.8549\n"
     ]
    },
    {
     "name": "stderr",
     "output_type": "stream",
     "text": [
      "\n",
      "\n",
      "\n",
      "\n",
      "\n",
      "\n",
      "\n",
      "\n",
      " 78%|██████████████████████████████████████████████████████████████                  | 149/192 [06:51<01:41,  2.35s/it]\u001b[A\u001b[A\u001b[A\u001b[A\u001b[A\u001b[A\u001b[A\u001b[A"
     ]
    },
    {
     "name": "stdout",
     "output_type": "stream",
     "text": [
      "IDS-ML-InputNeurons=128-HiddenLayers=1-HiddenNeurons=128-Dropout=0.2=Optimizernadam\n",
      "128\n",
      "Train on 9113 samples, validate on 1013 samples\n",
      "Epoch 1/1\n",
      " - 0s - loss: 0.4535 - accuracy: 0.8220 - val_loss: 0.2074 - val_accuracy: 0.9102\n"
     ]
    },
    {
     "name": "stderr",
     "output_type": "stream",
     "text": [
      "\n",
      "\n",
      "\n",
      "\n",
      "\n",
      "\n",
      "\n",
      "\n",
      " 78%|██████████████████████████████████████████████████████████████▌                 | 150/192 [06:53<01:40,  2.39s/it]\u001b[A\u001b[A\u001b[A\u001b[A\u001b[A\u001b[A\u001b[A\u001b[A"
     ]
    },
    {
     "name": "stdout",
     "output_type": "stream",
     "text": [
      "IDS-ML-InputNeurons=256-HiddenLayers=1-HiddenNeurons=128-Dropout=0.2=Optimizeradam\n",
      "256\n",
      "Train on 9113 samples, validate on 1013 samples\n",
      "Epoch 1/1\n",
      " - 0s - loss: 0.5350 - accuracy: 0.8011 - val_loss: 0.2724 - val_accuracy: 0.9033\n"
     ]
    },
    {
     "name": "stderr",
     "output_type": "stream",
     "text": [
      "\n",
      "\n",
      "\n",
      "\n",
      "\n",
      "\n",
      "\n",
      "\n",
      " 79%|██████████████████████████████████████████████████████████████▉                 | 151/192 [06:56<01:35,  2.33s/it]\u001b[A\u001b[A\u001b[A\u001b[A\u001b[A\u001b[A\u001b[A\u001b[A"
     ]
    },
    {
     "name": "stdout",
     "output_type": "stream",
     "text": [
      "IDS-ML-InputNeurons=256-HiddenLayers=1-HiddenNeurons=128-Dropout=0.2=Optimizernadam\n",
      "256\n",
      "Train on 9113 samples, validate on 1013 samples\n",
      "Epoch 1/1\n",
      " - 0s - loss: 0.3962 - accuracy: 0.8421 - val_loss: 0.1935 - val_accuracy: 0.9102\n"
     ]
    },
    {
     "name": "stderr",
     "output_type": "stream",
     "text": [
      "\n",
      "\n",
      "\n",
      "\n",
      "\n",
      "\n",
      "\n",
      "\n",
      " 79%|███████████████████████████████████████████████████████████████▎                | 152/192 [06:58<01:37,  2.44s/it]\u001b[A\u001b[A\u001b[A\u001b[A\u001b[A\u001b[A\u001b[A\u001b[A"
     ]
    },
    {
     "name": "stdout",
     "output_type": "stream",
     "text": [
      "IDS-ML-InputNeurons=32-HiddenLayers=2-HiddenNeurons=128-Dropout=0.2=Optimizeradam\n",
      "32\n",
      "Train on 9113 samples, validate on 1013 samples\n",
      "Epoch 1/1\n",
      " - 0s - loss: 0.6576 - accuracy: 0.7419 - val_loss: 0.3371 - val_accuracy: 0.8263\n"
     ]
    },
    {
     "name": "stderr",
     "output_type": "stream",
     "text": [
      "\n",
      "\n",
      "\n",
      "\n",
      "\n",
      "\n",
      "\n",
      "\n",
      " 80%|███████████████████████████████████████████████████████████████▊                | 153/192 [07:01<01:37,  2.49s/it]\u001b[A\u001b[A\u001b[A\u001b[A\u001b[A\u001b[A\u001b[A\u001b[A"
     ]
    },
    {
     "name": "stdout",
     "output_type": "stream",
     "text": [
      "IDS-ML-InputNeurons=32-HiddenLayers=2-HiddenNeurons=128-Dropout=0.2=Optimizernadam\n",
      "32\n",
      "Train on 9113 samples, validate on 1013 samples\n",
      "Epoch 1/1\n",
      " - 0s - loss: 0.4492 - accuracy: 0.8066 - val_loss: 0.2018 - val_accuracy: 0.9092\n"
     ]
    },
    {
     "name": "stderr",
     "output_type": "stream",
     "text": [
      "\n",
      "\n",
      "\n",
      "\n",
      "\n",
      "\n",
      "\n",
      "\n",
      " 80%|████████████████████████████████████████████████████████████████▏               | 154/192 [07:04<01:41,  2.66s/it]\u001b[A\u001b[A\u001b[A\u001b[A\u001b[A\u001b[A\u001b[A\u001b[A"
     ]
    },
    {
     "name": "stdout",
     "output_type": "stream",
     "text": [
      "IDS-ML-InputNeurons=64-HiddenLayers=2-HiddenNeurons=128-Dropout=0.2=Optimizeradam\n",
      "64\n",
      "Train on 9113 samples, validate on 1013 samples\n",
      "Epoch 1/1\n",
      " - 0s - loss: 0.5962 - accuracy: 0.7441 - val_loss: 0.3087 - val_accuracy: 0.8983\n"
     ]
    },
    {
     "name": "stderr",
     "output_type": "stream",
     "text": [
      "\n",
      "\n",
      "\n",
      "\n",
      "\n",
      "\n",
      "\n",
      "\n",
      " 81%|████████████████████████████████████████████████████████████████▌               | 155/192 [07:08<01:47,  2.91s/it]\u001b[A\u001b[A\u001b[A\u001b[A\u001b[A\u001b[A\u001b[A\u001b[A"
     ]
    },
    {
     "name": "stdout",
     "output_type": "stream",
     "text": [
      "IDS-ML-InputNeurons=64-HiddenLayers=2-HiddenNeurons=128-Dropout=0.2=Optimizernadam\n",
      "64\n",
      "Train on 9113 samples, validate on 1013 samples\n",
      "Epoch 1/1\n",
      " - 0s - loss: 0.4340 - accuracy: 0.8174 - val_loss: 0.1919 - val_accuracy: 0.9112\n"
     ]
    },
    {
     "name": "stderr",
     "output_type": "stream",
     "text": [
      "\n",
      "\n",
      "\n",
      "\n",
      "\n",
      "\n",
      "\n",
      "\n",
      " 81%|█████████████████████████████████████████████████████████████████               | 156/192 [07:11<01:46,  2.97s/it]\u001b[A\u001b[A\u001b[A\u001b[A\u001b[A\u001b[A\u001b[A\u001b[A"
     ]
    },
    {
     "name": "stdout",
     "output_type": "stream",
     "text": [
      "IDS-ML-InputNeurons=128-HiddenLayers=2-HiddenNeurons=128-Dropout=0.2=Optimizeradam\n",
      "128\n",
      "Train on 9113 samples, validate on 1013 samples\n",
      "Epoch 1/1\n",
      " - 0s - loss: 0.5585 - accuracy: 0.7587 - val_loss: 0.2473 - val_accuracy: 0.9062\n"
     ]
    },
    {
     "name": "stderr",
     "output_type": "stream",
     "text": [
      "\n",
      "\n",
      "\n",
      "\n",
      "\n",
      "\n",
      "\n",
      "\n",
      " 82%|█████████████████████████████████████████████████████████████████▍              | 157/192 [07:13<01:41,  2.91s/it]\u001b[A\u001b[A\u001b[A\u001b[A\u001b[A\u001b[A\u001b[A\u001b[A"
     ]
    },
    {
     "name": "stdout",
     "output_type": "stream",
     "text": [
      "IDS-ML-InputNeurons=128-HiddenLayers=2-HiddenNeurons=128-Dropout=0.2=Optimizernadam\n",
      "128\n",
      "Train on 9113 samples, validate on 1013 samples\n",
      "Epoch 1/1\n",
      " - 0s - loss: 0.3749 - accuracy: 0.8380 - val_loss: 0.1889 - val_accuracy: 0.9092\n"
     ]
    },
    {
     "name": "stderr",
     "output_type": "stream",
     "text": [
      "\n",
      "\n",
      "\n",
      "\n",
      "\n",
      "\n",
      "\n",
      "\n",
      " 82%|█████████████████████████████████████████████████████████████████▊              | 158/192 [07:16<01:40,  2.96s/it]\u001b[A\u001b[A\u001b[A\u001b[A\u001b[A\u001b[A\u001b[A\u001b[A"
     ]
    },
    {
     "name": "stdout",
     "output_type": "stream",
     "text": [
      "IDS-ML-InputNeurons=256-HiddenLayers=2-HiddenNeurons=128-Dropout=0.2=Optimizeradam\n",
      "256\n",
      "Train on 9113 samples, validate on 1013 samples\n",
      "Epoch 1/1\n",
      " - 0s - loss: 0.4600 - accuracy: 0.8075 - val_loss: 0.2020 - val_accuracy: 0.9092\n"
     ]
    },
    {
     "name": "stderr",
     "output_type": "stream",
     "text": [
      "\n",
      "\n",
      "\n",
      "\n",
      "\n",
      "\n",
      "\n",
      "\n",
      " 83%|██████████████████████████████████████████████████████████████████▎             | 159/192 [07:20<01:39,  3.00s/it]\u001b[A\u001b[A\u001b[A\u001b[A\u001b[A\u001b[A\u001b[A\u001b[A"
     ]
    },
    {
     "name": "stdout",
     "output_type": "stream",
     "text": [
      "IDS-ML-InputNeurons=256-HiddenLayers=2-HiddenNeurons=128-Dropout=0.2=Optimizernadam\n",
      "256\n",
      "Train on 9113 samples, validate on 1013 samples\n",
      "Epoch 1/1\n",
      " - 1s - loss: 0.3498 - accuracy: 0.8476 - val_loss: 0.1817 - val_accuracy: 0.9112\n"
     ]
    },
    {
     "name": "stderr",
     "output_type": "stream",
     "text": [
      "\n",
      "\n",
      "\n",
      "\n",
      "\n",
      "\n",
      "\n",
      "\n",
      " 83%|██████████████████████████████████████████████████████████████████▋             | 160/192 [07:23<01:36,  3.02s/it]\u001b[A\u001b[A\u001b[A\u001b[A\u001b[A\u001b[A\u001b[A\u001b[A"
     ]
    },
    {
     "name": "stdout",
     "output_type": "stream",
     "text": [
      "IDS-ML-InputNeurons=32-HiddenLayers=3-HiddenNeurons=128-Dropout=0.2=Optimizeradam\n",
      "32\n",
      "Train on 9113 samples, validate on 1013 samples\n",
      "Epoch 1/1\n",
      " - 1s - loss: 0.6355 - accuracy: 0.7229 - val_loss: 0.2978 - val_accuracy: 0.8796\n"
     ]
    },
    {
     "name": "stderr",
     "output_type": "stream",
     "text": [
      "\n",
      "\n",
      "\n",
      "\n",
      "\n",
      "\n",
      "\n",
      "\n",
      " 84%|███████████████████████████████████████████████████████████████████             | 161/192 [07:26<01:36,  3.12s/it]\u001b[A\u001b[A\u001b[A\u001b[A\u001b[A\u001b[A\u001b[A\u001b[A"
     ]
    },
    {
     "name": "stdout",
     "output_type": "stream",
     "text": [
      "IDS-ML-InputNeurons=32-HiddenLayers=3-HiddenNeurons=128-Dropout=0.2=Optimizernadam\n",
      "32\n",
      "Train on 9113 samples, validate on 1013 samples\n",
      "Epoch 1/1\n",
      " - 1s - loss: 0.4118 - accuracy: 0.8147 - val_loss: 0.1946 - val_accuracy: 0.9112\n"
     ]
    },
    {
     "name": "stderr",
     "output_type": "stream",
     "text": [
      "\n",
      "\n",
      "\n",
      "\n",
      "\n",
      "\n",
      "\n",
      "\n",
      " 84%|███████████████████████████████████████████████████████████████████▌            | 162/192 [07:30<01:37,  3.25s/it]\u001b[A\u001b[A\u001b[A\u001b[A\u001b[A\u001b[A\u001b[A\u001b[A"
     ]
    },
    {
     "name": "stdout",
     "output_type": "stream",
     "text": [
      "IDS-ML-InputNeurons=64-HiddenLayers=3-HiddenNeurons=128-Dropout=0.2=Optimizeradam\n",
      "64\n",
      "Train on 9113 samples, validate on 1013 samples\n",
      "Epoch 1/1\n",
      " - 1s - loss: 0.5160 - accuracy: 0.7758 - val_loss: 0.2202 - val_accuracy: 0.9082\n"
     ]
    },
    {
     "name": "stderr",
     "output_type": "stream",
     "text": [
      "\n",
      "\n",
      "\n",
      "\n",
      "\n",
      "\n",
      "\n",
      "\n",
      " 85%|███████████████████████████████████████████████████████████████████▉            | 163/192 [07:33<01:35,  3.28s/it]\u001b[A\u001b[A\u001b[A\u001b[A\u001b[A\u001b[A\u001b[A\u001b[A"
     ]
    },
    {
     "name": "stdout",
     "output_type": "stream",
     "text": [
      "IDS-ML-InputNeurons=64-HiddenLayers=3-HiddenNeurons=128-Dropout=0.2=Optimizernadam\n",
      "64\n",
      "Train on 9113 samples, validate on 1013 samples\n",
      "Epoch 1/1\n",
      " - 1s - loss: 0.4000 - accuracy: 0.8203 - val_loss: 0.2650 - val_accuracy: 0.8746\n"
     ]
    },
    {
     "name": "stderr",
     "output_type": "stream",
     "text": [
      "\n",
      "\n",
      "\n",
      "\n",
      "\n",
      "\n",
      "\n",
      "\n",
      " 85%|████████████████████████████████████████████████████████████████████▎           | 164/192 [07:36<01:33,  3.34s/it]\u001b[A\u001b[A\u001b[A\u001b[A\u001b[A\u001b[A\u001b[A\u001b[A"
     ]
    },
    {
     "name": "stdout",
     "output_type": "stream",
     "text": [
      "IDS-ML-InputNeurons=128-HiddenLayers=3-HiddenNeurons=128-Dropout=0.2=Optimizeradam\n",
      "128\n",
      "Train on 9113 samples, validate on 1013 samples\n",
      "Epoch 1/1\n",
      " - 1s - loss: 0.5587 - accuracy: 0.7508 - val_loss: 0.2239 - val_accuracy: 0.9082\n"
     ]
    },
    {
     "name": "stderr",
     "output_type": "stream",
     "text": [
      "\n",
      "\n",
      "\n",
      "\n",
      "\n",
      "\n",
      "\n",
      "\n",
      " 86%|████████████████████████████████████████████████████████████████████▊           | 165/192 [07:40<01:29,  3.30s/it]\u001b[A\u001b[A\u001b[A\u001b[A\u001b[A\u001b[A\u001b[A\u001b[A"
     ]
    },
    {
     "name": "stdout",
     "output_type": "stream",
     "text": [
      "IDS-ML-InputNeurons=128-HiddenLayers=3-HiddenNeurons=128-Dropout=0.2=Optimizernadam\n",
      "128\n",
      "Train on 9113 samples, validate on 1013 samples\n",
      "Epoch 1/1\n",
      " - 1s - loss: 0.3663 - accuracy: 0.8353 - val_loss: 0.1864 - val_accuracy: 0.9121\n"
     ]
    },
    {
     "name": "stderr",
     "output_type": "stream",
     "text": [
      "\n",
      "\n",
      "\n",
      "\n",
      "\n",
      "\n",
      "\n",
      "\n",
      " 86%|█████████████████████████████████████████████████████████████████████▏          | 166/192 [07:43<01:28,  3.39s/it]\u001b[A\u001b[A\u001b[A\u001b[A\u001b[A\u001b[A\u001b[A\u001b[A"
     ]
    },
    {
     "name": "stdout",
     "output_type": "stream",
     "text": [
      "IDS-ML-InputNeurons=256-HiddenLayers=3-HiddenNeurons=128-Dropout=0.2=Optimizeradam\n",
      "256\n",
      "Train on 9113 samples, validate on 1013 samples\n",
      "Epoch 1/1\n",
      " - 1s - loss: 0.4615 - accuracy: 0.8005 - val_loss: 0.1916 - val_accuracy: 0.9102\n"
     ]
    },
    {
     "name": "stderr",
     "output_type": "stream",
     "text": [
      "\n",
      "\n",
      "\n",
      "\n",
      "\n",
      "\n",
      "\n",
      "\n",
      " 87%|█████████████████████████████████████████████████████████████████████▌          | 167/192 [07:46<01:22,  3.29s/it]\u001b[A\u001b[A\u001b[A\u001b[A\u001b[A\u001b[A\u001b[A\u001b[A"
     ]
    },
    {
     "name": "stdout",
     "output_type": "stream",
     "text": [
      "IDS-ML-InputNeurons=256-HiddenLayers=3-HiddenNeurons=128-Dropout=0.2=Optimizernadam\n",
      "256\n",
      "Train on 9113 samples, validate on 1013 samples\n",
      "Epoch 1/1\n",
      " - 1s - loss: 0.3446 - accuracy: 0.8481 - val_loss: 0.2155 - val_accuracy: 0.9082\n"
     ]
    },
    {
     "name": "stderr",
     "output_type": "stream",
     "text": [
      "\n",
      "\n",
      "\n",
      "\n",
      "\n",
      "\n",
      "\n",
      "\n",
      " 88%|██████████████████████████████████████████████████████████████████████          | 168/192 [07:50<01:21,  3.39s/it]\u001b[A\u001b[A\u001b[A\u001b[A\u001b[A\u001b[A\u001b[A\u001b[A"
     ]
    },
    {
     "name": "stdout",
     "output_type": "stream",
     "text": [
      "IDS-ML-InputNeurons=32-HiddenLayers=1-HiddenNeurons=256-Dropout=0.2=Optimizeradam\n",
      "32\n",
      "Train on 9113 samples, validate on 1013 samples\n",
      "Epoch 1/1\n",
      " - 0s - loss: 0.7092 - accuracy: 0.7191 - val_loss: 0.4344 - val_accuracy: 0.8213\n"
     ]
    },
    {
     "name": "stderr",
     "output_type": "stream",
     "text": [
      "\n",
      "\n",
      "\n",
      "\n",
      "\n",
      "\n",
      "\n",
      "\n",
      " 88%|██████████████████████████████████████████████████████████████████████▍         | 169/192 [07:52<01:08,  2.97s/it]\u001b[A\u001b[A\u001b[A\u001b[A\u001b[A\u001b[A\u001b[A\u001b[A"
     ]
    },
    {
     "name": "stdout",
     "output_type": "stream",
     "text": [
      "IDS-ML-InputNeurons=32-HiddenLayers=1-HiddenNeurons=256-Dropout=0.2=Optimizernadam\n",
      "32\n",
      "Train on 9113 samples, validate on 1013 samples\n",
      "Epoch 1/1\n",
      " - 0s - loss: 0.5257 - accuracy: 0.7953 - val_loss: 0.2593 - val_accuracy: 0.9042\n"
     ]
    },
    {
     "name": "stderr",
     "output_type": "stream",
     "text": [
      "\n",
      "\n",
      "\n",
      "\n",
      "\n",
      "\n",
      "\n",
      "\n",
      " 89%|██████████████████████████████████████████████████████████████████████▊         | 170/192 [07:54<01:01,  2.80s/it]\u001b[A\u001b[A\u001b[A\u001b[A\u001b[A\u001b[A\u001b[A\u001b[A"
     ]
    },
    {
     "name": "stdout",
     "output_type": "stream",
     "text": [
      "IDS-ML-InputNeurons=64-HiddenLayers=1-HiddenNeurons=256-Dropout=0.2=Optimizeradam\n",
      "64\n",
      "Train on 9113 samples, validate on 1013 samples\n",
      "Epoch 1/1\n",
      " - 0s - loss: 0.6260 - accuracy: 0.7344 - val_loss: 0.3684 - val_accuracy: 0.8342\n"
     ]
    },
    {
     "name": "stderr",
     "output_type": "stream",
     "text": [
      "\n",
      "\n",
      "\n",
      "\n",
      "\n",
      "\n",
      "\n",
      "\n",
      " 89%|███████████████████████████████████████████████████████████████████████▎        | 171/192 [07:56<00:54,  2.58s/it]\u001b[A\u001b[A\u001b[A\u001b[A\u001b[A\u001b[A\u001b[A\u001b[A"
     ]
    },
    {
     "name": "stdout",
     "output_type": "stream",
     "text": [
      "IDS-ML-InputNeurons=64-HiddenLayers=1-HiddenNeurons=256-Dropout=0.2=Optimizernadam\n",
      "64\n",
      "Train on 9113 samples, validate on 1013 samples\n",
      "Epoch 1/1\n",
      " - 0s - loss: 0.4498 - accuracy: 0.8167 - val_loss: 0.2066 - val_accuracy: 0.9102\n"
     ]
    },
    {
     "name": "stderr",
     "output_type": "stream",
     "text": [
      "\n",
      "\n",
      "\n",
      "\n",
      "\n",
      "\n",
      "\n",
      "\n",
      " 90%|███████████████████████████████████████████████████████████████████████▋        | 172/192 [07:59<00:49,  2.48s/it]\u001b[A\u001b[A\u001b[A\u001b[A\u001b[A\u001b[A\u001b[A\u001b[A"
     ]
    },
    {
     "name": "stdout",
     "output_type": "stream",
     "text": [
      "IDS-ML-InputNeurons=128-HiddenLayers=1-HiddenNeurons=256-Dropout=0.2=Optimizeradam\n",
      "128\n",
      "Train on 9113 samples, validate on 1013 samples\n",
      "Epoch 1/1\n",
      " - 0s - loss: 0.5144 - accuracy: 0.7872 - val_loss: 0.2639 - val_accuracy: 0.9042\n"
     ]
    },
    {
     "name": "stderr",
     "output_type": "stream",
     "text": [
      "\n",
      "\n",
      "\n",
      "\n",
      "\n",
      "\n",
      "\n",
      "\n",
      " 90%|████████████████████████████████████████████████████████████████████████        | 173/192 [08:01<00:45,  2.40s/it]\u001b[A\u001b[A\u001b[A\u001b[A\u001b[A\u001b[A\u001b[A\u001b[A"
     ]
    },
    {
     "name": "stdout",
     "output_type": "stream",
     "text": [
      "IDS-ML-InputNeurons=128-HiddenLayers=1-HiddenNeurons=256-Dropout=0.2=Optimizernadam\n",
      "128\n",
      "Train on 9113 samples, validate on 1013 samples\n",
      "Epoch 1/1\n",
      " - 0s - loss: 0.3883 - accuracy: 0.8552 - val_loss: 0.2016 - val_accuracy: 0.9092\n"
     ]
    },
    {
     "name": "stderr",
     "output_type": "stream",
     "text": [
      "\n",
      "\n",
      "\n",
      "\n",
      "\n",
      "\n",
      "\n",
      "\n",
      " 91%|████████████████████████████████████████████████████████████████████████▌       | 174/192 [08:03<00:42,  2.35s/it]\u001b[A\u001b[A\u001b[A\u001b[A\u001b[A\u001b[A\u001b[A\u001b[A"
     ]
    },
    {
     "name": "stdout",
     "output_type": "stream",
     "text": [
      "IDS-ML-InputNeurons=256-HiddenLayers=1-HiddenNeurons=256-Dropout=0.2=Optimizeradam\n",
      "256\n",
      "Train on 9113 samples, validate on 1013 samples\n",
      "Epoch 1/1\n",
      " - 0s - loss: 0.4789 - accuracy: 0.8215 - val_loss: 0.2422 - val_accuracy: 0.9092\n"
     ]
    },
    {
     "name": "stderr",
     "output_type": "stream",
     "text": [
      "\n",
      "\n",
      "\n",
      "\n",
      "\n",
      "\n",
      "\n",
      "\n",
      " 91%|████████████████████████████████████████████████████████████████████████▉       | 175/192 [08:05<00:39,  2.32s/it]\u001b[A\u001b[A\u001b[A\u001b[A\u001b[A\u001b[A\u001b[A\u001b[A"
     ]
    },
    {
     "name": "stdout",
     "output_type": "stream",
     "text": [
      "IDS-ML-InputNeurons=256-HiddenLayers=1-HiddenNeurons=256-Dropout=0.2=Optimizernadam\n",
      "256\n",
      "Train on 9113 samples, validate on 1013 samples\n",
      "Epoch 1/1\n",
      " - 0s - loss: 0.3603 - accuracy: 0.8607 - val_loss: 0.1935 - val_accuracy: 0.9102\n"
     ]
    },
    {
     "name": "stderr",
     "output_type": "stream",
     "text": [
      "\n",
      "\n",
      "\n",
      "\n",
      "\n",
      "\n",
      "\n",
      "\n",
      " 92%|█████████████████████████████████████████████████████████████████████████▎      | 176/192 [08:08<00:37,  2.34s/it]\u001b[A\u001b[A\u001b[A\u001b[A\u001b[A\u001b[A\u001b[A\u001b[A"
     ]
    },
    {
     "name": "stdout",
     "output_type": "stream",
     "text": [
      "IDS-ML-InputNeurons=32-HiddenLayers=2-HiddenNeurons=256-Dropout=0.2=Optimizeradam\n",
      "32\n",
      "Train on 9113 samples, validate on 1013 samples\n",
      "Epoch 1/1\n",
      " - 1s - loss: 0.5037 - accuracy: 0.7881 - val_loss: 0.2270 - val_accuracy: 0.9082\n"
     ]
    },
    {
     "name": "stderr",
     "output_type": "stream",
     "text": [
      "\n",
      "\n",
      "\n",
      "\n",
      "\n",
      "\n",
      "\n",
      "\n",
      " 92%|█████████████████████████████████████████████████████████████████████████▊      | 177/192 [08:10<00:37,  2.49s/it]\u001b[A\u001b[A\u001b[A\u001b[A\u001b[A\u001b[A\u001b[A\u001b[A"
     ]
    },
    {
     "name": "stdout",
     "output_type": "stream",
     "text": [
      "IDS-ML-InputNeurons=32-HiddenLayers=2-HiddenNeurons=256-Dropout=0.2=Optimizernadam\n",
      "32\n",
      "Train on 9113 samples, validate on 1013 samples\n",
      "Epoch 1/1\n",
      " - 1s - loss: 0.4065 - accuracy: 0.8227 - val_loss: 0.2141 - val_accuracy: 0.9082\n"
     ]
    },
    {
     "name": "stderr",
     "output_type": "stream",
     "text": [
      "\n",
      "\n",
      "\n",
      "\n",
      "\n",
      "\n",
      "\n",
      "\n",
      " 93%|██████████████████████████████████████████████████████████████████████████▏     | 178/192 [08:13<00:36,  2.62s/it]\u001b[A\u001b[A\u001b[A\u001b[A\u001b[A\u001b[A\u001b[A\u001b[A"
     ]
    },
    {
     "name": "stdout",
     "output_type": "stream",
     "text": [
      "IDS-ML-InputNeurons=64-HiddenLayers=2-HiddenNeurons=256-Dropout=0.2=Optimizeradam\n",
      "64\n",
      "Train on 9113 samples, validate on 1013 samples\n",
      "Epoch 1/1\n",
      " - 1s - loss: 0.5171 - accuracy: 0.7709 - val_loss: 0.2179 - val_accuracy: 0.9042\n"
     ]
    },
    {
     "name": "stderr",
     "output_type": "stream",
     "text": [
      "\n",
      "\n",
      "\n",
      "\n",
      "\n",
      "\n",
      "\n",
      "\n",
      " 93%|██████████████████████████████████████████████████████████████████████████▌     | 179/192 [08:16<00:35,  2.70s/it]\u001b[A\u001b[A\u001b[A\u001b[A\u001b[A\u001b[A\u001b[A\u001b[A"
     ]
    },
    {
     "name": "stdout",
     "output_type": "stream",
     "text": [
      "IDS-ML-InputNeurons=64-HiddenLayers=2-HiddenNeurons=256-Dropout=0.2=Optimizernadam\n",
      "64\n",
      "Train on 9113 samples, validate on 1013 samples\n",
      "Epoch 1/1\n",
      " - 1s - loss: 0.3584 - accuracy: 0.8379 - val_loss: 0.1847 - val_accuracy: 0.9112\n"
     ]
    },
    {
     "name": "stderr",
     "output_type": "stream",
     "text": [
      "\n",
      "\n",
      "\n",
      "\n",
      "\n",
      "\n",
      "\n",
      "\n",
      " 94%|███████████████████████████████████████████████████████████████████████████     | 180/192 [08:19<00:33,  2.81s/it]\u001b[A\u001b[A\u001b[A\u001b[A\u001b[A\u001b[A\u001b[A\u001b[A"
     ]
    },
    {
     "name": "stdout",
     "output_type": "stream",
     "text": [
      "IDS-ML-InputNeurons=128-HiddenLayers=2-HiddenNeurons=256-Dropout=0.2=Optimizeradam\n",
      "128\n",
      "Train on 9113 samples, validate on 1013 samples\n",
      "Epoch 1/1\n",
      " - 1s - loss: 0.4335 - accuracy: 0.8116 - val_loss: 0.1986 - val_accuracy: 0.9102\n"
     ]
    },
    {
     "name": "stderr",
     "output_type": "stream",
     "text": [
      "\n",
      "\n",
      "\n",
      "\n",
      "\n",
      "\n",
      "\n",
      "\n",
      " 94%|███████████████████████████████████████████████████████████████████████████▍    | 181/192 [08:22<00:31,  2.84s/it]\u001b[A\u001b[A\u001b[A\u001b[A\u001b[A\u001b[A\u001b[A\u001b[A"
     ]
    },
    {
     "name": "stdout",
     "output_type": "stream",
     "text": [
      "IDS-ML-InputNeurons=128-HiddenLayers=2-HiddenNeurons=256-Dropout=0.2=Optimizernadam\n",
      "128\n",
      "Train on 9113 samples, validate on 1013 samples\n",
      "Epoch 1/1\n",
      " - 1s - loss: 0.3342 - accuracy: 0.8536 - val_loss: 0.1875 - val_accuracy: 0.9102\n"
     ]
    },
    {
     "name": "stderr",
     "output_type": "stream",
     "text": [
      "\n",
      "\n",
      "\n",
      "\n",
      "\n",
      "\n",
      "\n",
      "\n",
      " 95%|███████████████████████████████████████████████████████████████████████████▊    | 182/192 [08:25<00:28,  2.86s/it]\u001b[A\u001b[A\u001b[A\u001b[A\u001b[A\u001b[A\u001b[A\u001b[A"
     ]
    },
    {
     "name": "stdout",
     "output_type": "stream",
     "text": [
      "IDS-ML-InputNeurons=256-HiddenLayers=2-HiddenNeurons=256-Dropout=0.2=Optimizeradam\n",
      "256\n",
      "Train on 9113 samples, validate on 1013 samples\n",
      "Epoch 1/1\n",
      " - 1s - loss: 0.4192 - accuracy: 0.8180 - val_loss: 0.1897 - val_accuracy: 0.9102\n"
     ]
    },
    {
     "name": "stderr",
     "output_type": "stream",
     "text": [
      "\n",
      "\n",
      "\n",
      "\n",
      "\n",
      "\n",
      "\n",
      "\n",
      " 95%|████████████████████████████████████████████████████████████████████████████▎   | 183/192 [08:28<00:26,  2.91s/it]\u001b[A\u001b[A\u001b[A\u001b[A\u001b[A\u001b[A\u001b[A\u001b[A"
     ]
    },
    {
     "name": "stdout",
     "output_type": "stream",
     "text": [
      "IDS-ML-InputNeurons=256-HiddenLayers=2-HiddenNeurons=256-Dropout=0.2=Optimizernadam\n",
      "256\n",
      "Train on 9113 samples, validate on 1013 samples\n",
      "Epoch 1/1\n",
      " - 1s - loss: 0.3214 - accuracy: 0.8586 - val_loss: 0.2080 - val_accuracy: 0.8361\n"
     ]
    },
    {
     "name": "stderr",
     "output_type": "stream",
     "text": [
      "\n",
      "\n",
      "\n",
      "\n",
      "\n",
      "\n",
      "\n",
      "\n",
      " 96%|████████████████████████████████████████████████████████████████████████████▋   | 184/192 [08:31<00:23,  2.93s/it]\u001b[A\u001b[A\u001b[A\u001b[A\u001b[A\u001b[A\u001b[A\u001b[A"
     ]
    },
    {
     "name": "stdout",
     "output_type": "stream",
     "text": [
      "IDS-ML-InputNeurons=32-HiddenLayers=3-HiddenNeurons=256-Dropout=0.2=Optimizeradam\n",
      "32\n",
      "Train on 9113 samples, validate on 1013 samples\n",
      "Epoch 1/1\n",
      " - 1s - loss: 0.5066 - accuracy: 0.7777 - val_loss: 0.2095 - val_accuracy: 0.9072\n"
     ]
    },
    {
     "name": "stderr",
     "output_type": "stream",
     "text": [
      "\n",
      "\n",
      "\n",
      "\n",
      "\n",
      "\n",
      "\n",
      "\n",
      " 96%|█████████████████████████████████████████████████████████████████████████████   | 185/192 [08:35<00:22,  3.19s/it]\u001b[A\u001b[A\u001b[A\u001b[A\u001b[A\u001b[A\u001b[A\u001b[A"
     ]
    },
    {
     "name": "stdout",
     "output_type": "stream",
     "text": [
      "IDS-ML-InputNeurons=32-HiddenLayers=3-HiddenNeurons=256-Dropout=0.2=Optimizernadam\n",
      "32\n",
      "Train on 9113 samples, validate on 1013 samples\n",
      "Epoch 1/1\n",
      " - 1s - loss: 0.3482 - accuracy: 0.8470 - val_loss: 0.2852 - val_accuracy: 0.8490\n"
     ]
    },
    {
     "name": "stderr",
     "output_type": "stream",
     "text": [
      "\n",
      "\n",
      "\n",
      "\n",
      "\n",
      "\n",
      "\n",
      "\n",
      " 97%|█████████████████████████████████████████████████████████████████████████████▌  | 186/192 [08:39<00:20,  3.36s/it]\u001b[A\u001b[A\u001b[A\u001b[A\u001b[A\u001b[A\u001b[A\u001b[A"
     ]
    },
    {
     "name": "stdout",
     "output_type": "stream",
     "text": [
      "IDS-ML-InputNeurons=64-HiddenLayers=3-HiddenNeurons=256-Dropout=0.2=Optimizeradam\n",
      "64\n",
      "Train on 9113 samples, validate on 1013 samples\n",
      "Epoch 1/1\n",
      " - 1s - loss: 0.4510 - accuracy: 0.8007 - val_loss: 0.1986 - val_accuracy: 0.9102\n"
     ]
    },
    {
     "name": "stderr",
     "output_type": "stream",
     "text": [
      "\n",
      "\n",
      "\n",
      "\n",
      "\n",
      "\n",
      "\n",
      "\n",
      " 97%|█████████████████████████████████████████████████████████████████████████████▉  | 187/192 [08:43<00:17,  3.49s/it]\u001b[A\u001b[A\u001b[A\u001b[A\u001b[A\u001b[A\u001b[A\u001b[A"
     ]
    },
    {
     "name": "stdout",
     "output_type": "stream",
     "text": [
      "IDS-ML-InputNeurons=64-HiddenLayers=3-HiddenNeurons=256-Dropout=0.2=Optimizernadam\n",
      "64\n",
      "Train on 9113 samples, validate on 1013 samples\n",
      "Epoch 1/1\n",
      " - 1s - loss: 0.3334 - accuracy: 0.8523 - val_loss: 0.1911 - val_accuracy: 0.9102\n"
     ]
    },
    {
     "name": "stderr",
     "output_type": "stream",
     "text": [
      "\n",
      "\n",
      "\n",
      "\n",
      "\n",
      "\n",
      "\n",
      "\n",
      " 98%|██████████████████████████████████████████████████████████████████████████████▎ | 188/192 [08:46<00:14,  3.55s/it]\u001b[A\u001b[A\u001b[A\u001b[A\u001b[A\u001b[A\u001b[A\u001b[A"
     ]
    },
    {
     "name": "stdout",
     "output_type": "stream",
     "text": [
      "IDS-ML-InputNeurons=128-HiddenLayers=3-HiddenNeurons=256-Dropout=0.2=Optimizeradam\n",
      "128\n",
      "Train on 9113 samples, validate on 1013 samples\n",
      "Epoch 1/1\n",
      " - 1s - loss: 0.4237 - accuracy: 0.8133 - val_loss: 0.1927 - val_accuracy: 0.9092\n"
     ]
    },
    {
     "name": "stderr",
     "output_type": "stream",
     "text": [
      "\n",
      "\n",
      "\n",
      "\n",
      "\n",
      "\n",
      "\n",
      "\n",
      " 98%|██████████████████████████████████████████████████████████████████████████████▊ | 189/192 [08:50<00:10,  3.52s/it]\u001b[A\u001b[A\u001b[A\u001b[A\u001b[A\u001b[A\u001b[A\u001b[A"
     ]
    },
    {
     "name": "stdout",
     "output_type": "stream",
     "text": [
      "IDS-ML-InputNeurons=128-HiddenLayers=3-HiddenNeurons=256-Dropout=0.2=Optimizernadam\n",
      "128\n",
      "Train on 9113 samples, validate on 1013 samples\n",
      "Epoch 1/1\n",
      " - 1s - loss: 0.3428 - accuracy: 0.8433 - val_loss: 0.1875 - val_accuracy: 0.9102\n"
     ]
    },
    {
     "name": "stderr",
     "output_type": "stream",
     "text": [
      "\n",
      "\n",
      "\n",
      "\n",
      "\n",
      "\n",
      "\n",
      "\n",
      " 99%|███████████████████████████████████████████████████████████████████████████████▏| 190/192 [08:54<00:07,  3.72s/it]\u001b[A\u001b[A\u001b[A\u001b[A\u001b[A\u001b[A\u001b[A\u001b[A"
     ]
    },
    {
     "name": "stdout",
     "output_type": "stream",
     "text": [
      "IDS-ML-InputNeurons=256-HiddenLayers=3-HiddenNeurons=256-Dropout=0.2=Optimizeradam\n",
      "256\n",
      "Train on 9113 samples, validate on 1013 samples\n",
      "Epoch 1/1\n",
      " - 1s - loss: 0.3990 - accuracy: 0.8201 - val_loss: 0.1859 - val_accuracy: 0.9092\n"
     ]
    },
    {
     "name": "stderr",
     "output_type": "stream",
     "text": [
      "\n",
      "\n",
      "\n",
      "\n",
      "\n",
      "\n",
      "\n",
      "\n",
      " 99%|███████████████████████████████████████████████████████████████████████████████▌| 191/192 [08:58<00:03,  3.86s/it]\u001b[A\u001b[A\u001b[A\u001b[A\u001b[A\u001b[A\u001b[A\u001b[A"
     ]
    },
    {
     "name": "stdout",
     "output_type": "stream",
     "text": [
      "IDS-ML-InputNeurons=256-HiddenLayers=3-HiddenNeurons=256-Dropout=0.2=Optimizernadam\n",
      "256\n",
      "Train on 9113 samples, validate on 1013 samples\n",
      "Epoch 1/1\n",
      " - 1s - loss: 0.3177 - accuracy: 0.8512 - val_loss: 0.1864 - val_accuracy: 0.9102\n"
     ]
    },
    {
     "name": "stderr",
     "output_type": "stream",
     "text": [
      "\n",
      "\n",
      "\n",
      "\n",
      "\n",
      "\n",
      "\n",
      "\n",
      "100%|████████████████████████████████████████████████████████████████████████████████| 192/192 [09:02<00:00,  2.83s/it]\u001b[A\u001b[A\u001b[A\u001b[A\u001b[A\u001b[A\u001b[A\u001b[A"
     ]
    },
    {
     "name": "stdout",
     "output_type": "stream",
     "text": [
      "Hemos terminado con el entrenamiento a las:  2020-01-31 18:17:39.268588\n"
     ]
    },
    {
     "name": "stderr",
     "output_type": "stream",
     "text": [
      "\n"
     ]
    }
   ],
   "source": [
    "from datetime import datetime\n",
    "print(\"Empezamos con el entrenamiento a las: \", datetime.utcnow())\n",
    "t = talos.Scan(x=X, y=y, x_val=X_val, y_val=y_val, params=p, model=def_model, experiment_name='talospepe')\n",
    "print(\"Hemos terminado con el entrenamiento a las: \", datetime.utcnow())"
   ]
  },
  {
   "cell_type": "code",
   "execution_count": 25,
   "metadata": {},
   "outputs": [],
   "source": []
  },
  {
   "cell_type": "code",
   "execution_count": 20,
   "metadata": {},
   "outputs": [
    {
     "name": "stdout",
     "output_type": "stream",
     "text": [
      "[1.03355015e-03 1.82983208e-06 4.82740504e-01 2.43977610e-06\n",
      " 2.13480409e-06 3.45228318e-04 4.82160752e-04 2.01586500e-04\n",
      " 0.00000000e+00 4.31535398e-05 6.79453318e-05 3.57732171e-04\n",
      " 0.00000000e+00 6.88801075e-05 1.31168037e-04 5.22704244e-04\n",
      " 2.88999766e-06 3.44814646e-02 7.50146707e-02 2.90731040e-01\n",
      " 6.09944026e-07 4.82740504e-01 6.89629291e-02 1.18882983e-01\n",
      " 3.37440858e-01 6.09944026e-07 4.54181095e-01 7.56968492e-02\n",
      " 1.05577847e-01 2.90731040e-01 2.86515107e-02 0.00000000e+00\n",
      " 0.00000000e+00 0.00000000e+00 0.00000000e+00 5.24551862e-05\n",
      " 4.63557459e-05 1.54133209e-06 1.34866558e-06 0.00000000e+00\n",
      " 3.57732171e-04 5.17118169e-05 9.69087601e-05 3.07939988e-02\n",
      " 0.00000000e+00 0.00000000e+00 0.00000000e+00 3.04972013e-07\n",
      " 0.00000000e+00 0.00000000e+00 0.00000000e+00 0.00000000e+00\n",
      " 0.00000000e+00 5.51592714e-05 4.31535398e-05 6.88801075e-05\n",
      " 0.00000000e+00 0.00000000e+00 0.00000000e+00 0.00000000e+00\n",
      " 0.00000000e+00 0.00000000e+00 2.43977610e-06 3.45228318e-04\n",
      " 2.13480409e-06 4.82160752e-04 2.49833073e-03 1.91729805e-02\n",
      " 1.52486006e-06 6.09944026e-06 0.00000000e+00 0.00000000e+00\n",
      " 0.00000000e+00 0.00000000e+00 0.00000000e+00 0.00000000e+00\n",
      " 0.00000000e+00 0.00000000e+00]\n",
      "[1. 0. 0.]\n"
     ]
    }
   ],
   "source": [
    "print(X[0])\n",
    "print(y[0])"
   ]
  },
  {
   "cell_type": "code",
   "execution_count": 32,
   "metadata": {},
   "outputs": [],
   "source": [
    " for i in range (6):\n",
    "    X, X_val, y, y_val = train_test_split(X, y, test_size=0.1, random_state=1)"
   ]
  },
  {
   "cell_type": "code",
   "execution_count": 33,
   "metadata": {},
   "outputs": [
    {
     "name": "stdout",
     "output_type": "stream",
     "text": [
      "9113\n",
      "(9113, 3)\n"
     ]
    }
   ],
   "source": [
    "print(len(X))\n",
    "print(y.shape)"
   ]
  },
  {
   "cell_type": "code",
   "execution_count": 31,
   "metadata": {},
   "outputs": [
    {
     "name": "stdout",
     "output_type": "stream",
     "text": [
      "1906\n",
      "(1906, 3)\n"
     ]
    }
   ],
   "source": [
    "print(len(X_val))\n",
    "print(y_val.shape)"
   ]
  },
  {
   "cell_type": "code",
   "execution_count": 5,
   "metadata": {},
   "outputs": [
    {
     "name": "stdout",
     "output_type": "stream",
     "text": [
      "CATS-vs-DOGS-layer-0-neurons32\n",
      "CATS-vs-DOGS-layer-0-neurons64\n",
      "CATS-vs-DOGS-layer-0-neurons128\n",
      "CATS-vs-DOGS-layer-1-neurons32\n",
      "CATS-vs-DOGS-layer-1-neurons64\n",
      "CATS-vs-DOGS-layer-1-neurons128\n",
      "CATS-vs-DOGS-layer-2-neurons32\n",
      "CATS-vs-DOGS-layer-2-neurons64\n",
      "CATS-vs-DOGS-layer-2-neurons128\n"
     ]
    }
   ],
   "source": [
    "import time\n",
    "dense_layers = [0, 1, 2]\n",
    "neurons = [32, 64, 128]\n",
    "for dense_layer in dense_layers:\n",
    "    for neuron in neurons:\n",
    "        NAME = \"CATS-vs-DOGS-layer-{}-neurons{}\".format(dense_layer, neuron)\n",
    "        print(NAME)\n",
    "            "
   ]
  },
  {
   "cell_type": "code",
   "execution_count": 35,
   "metadata": {},
   "outputs": [
    {
     "name": "stdout",
     "output_type": "stream",
     "text": [
      "1580492439.6077363\n"
     ]
    }
   ],
   "source": [
    "print(time.time())"
   ]
  },
  {
   "cell_type": "code",
   "execution_count": 37,
   "metadata": {},
   "outputs": [
    {
     "name": "stdout",
     "output_type": "stream",
     "text": [
      "2020-01-31 17:41:29.525762\n"
     ]
    }
   ],
   "source": [
    "from datetime import datetime\n",
    "print(datetime.utcnow())"
   ]
  },
  {
   "cell_type": "code",
   "execution_count": null,
   "metadata": {},
   "outputs": [],
   "source": []
  }
 ],
 "metadata": {
  "kernelspec": {
   "display_name": "Python 3",
   "language": "python",
   "name": "python3"
  },
  "language_info": {
   "codemirror_mode": {
    "name": "ipython",
    "version": 3
   },
   "file_extension": ".py",
   "mimetype": "text/x-python",
   "name": "python",
   "nbconvert_exporter": "python",
   "pygments_lexer": "ipython3",
   "version": "3.6.9"
  }
 },
 "nbformat": 4,
 "nbformat_minor": 2
}
